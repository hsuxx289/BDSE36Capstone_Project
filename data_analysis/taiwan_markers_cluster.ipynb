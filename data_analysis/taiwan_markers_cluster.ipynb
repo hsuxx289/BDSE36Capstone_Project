{
 "cells": [
  {
   "cell_type": "code",
   "execution_count": null,
   "metadata": {},
   "outputs": [],
   "source": [
    "# 挑戰畫出台灣互動式地圖分布\n",
    "\n",
    "import pandas as pd\n",
    "\n",
    "# 切出景點經緯度\n",
    "list_838 = pd.read_csv('../data/838-地點清單.csv')\n",
    "\n",
    "new_basic_info_838 = pd.read_csv('../data/838-new_basic_info.csv')\n",
    "\n",
    "list_838[['latitude', 'longitude']] = list_838['gmap_coordinates'].str.split(\",\", expand=True)\n",
    "\n",
    "list_838 = pd.merge(list_838, new_basic_info_838)\n",
    "\n",
    "list_838.head()"
   ]
  },
  {
   "cell_type": "code",
   "execution_count": null,
   "metadata": {},
   "outputs": [],
   "source": [
    "import folium\n",
    "from folium.plugins import FastMarkerCluster\n",
    "\n",
    "# 台灣的中心座標\n",
    "taiwan_center = [23.6978, 120.9605]\n",
    "\n",
    "# 建立地圖\n",
    "m_cluster = folium.Map(location=taiwan_center, zoom_start=8)\n",
    "\n",
    "# 只放一次標記，並加上 popup\n",
    "locations = [\n",
    "    [row['latitude'], row['longitude'], f\"<b>🏠{row['gmap_location']}</b><br>📍{row['address']}<br>📖{row['attraction_type']}<br><a href='{row['href']}' target='_blank'>🔗 {row['viewpoint']}</a>\"]\n",
    "    for _, row in list_838.iterrows()\n",
    "]\n",
    "\n",
    "# 使用 FastMarkerCluster 並加上 popup\n",
    "FastMarkerCluster(\n",
    "    data=[[lat, lon, popup] for lat, lon, popup in locations],\n",
    "    callback=\"\"\"\n",
    "    function (row) {\n",
    "        var marker = L.marker(new L.LatLng(row[0], row[1]));\n",
    "        marker.bindPopup(row[2]);\n",
    "        return marker;\n",
    "    }\n",
    "    \"\"\"\n",
    ").add_to(m_cluster)\n",
    "\n",
    "# 儲存地圖為 HTML 檔案\n",
    "m_cluster.save(\"../data/taiwan_markers_cluster.html\")\n",
    "\n",
    "# 在 Jupyter Notebook 中顯示\n",
    "m_cluster"
   ]
  }
 ],
 "metadata": {
  "kernelspec": {
   "display_name": "Python 3",
   "language": "python",
   "name": "python3"
  },
  "language_info": {
   "name": "python",
   "version": "3.13.0"
  }
 },
 "nbformat": 4,
 "nbformat_minor": 2
}
