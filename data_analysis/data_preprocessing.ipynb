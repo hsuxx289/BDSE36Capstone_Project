{
 "cells": [
  {
   "cell_type": "markdown",
   "metadata": {},
   "source": [
    "## 使用說明\n",
    "1. 建立data_analysis 資料夾以及 data 資料夾  \n",
    "2. 將此ipynb 檔放入data_analysis 資料夾  \n",
    "3. 將3個 raw data csv檔 以及 gmap838_nlp.csv 丟到data資料夾中  \n",
    "4. 全部執行即可完成前置作業"
   ]
  },
  {
   "cell_type": "code",
   "execution_count": 1,
   "metadata": {},
   "outputs": [],
   "source": [
    "# 將需要用到的資料整併為各個工作表\n",
    "import pandas as pd\n",
    "\n",
    "import warnings\n",
    "warnings.filterwarnings(\"ignore\")"
   ]
  },
  {
   "cell_type": "code",
   "execution_count": 2,
   "metadata": {},
   "outputs": [
    {
     "data": {
      "application/vnd.microsoft.datawrangler.viewer.v0+json": {
       "columns": [
        {
         "name": "index",
         "rawType": "int64",
         "type": "integer"
        },
        {
         "name": "href",
         "rawType": "object",
         "type": "string"
        },
        {
         "name": "viewpoint",
         "rawType": "object",
         "type": "string"
        },
        {
         "name": "gmap_location",
         "rawType": "object",
         "type": "string"
        },
        {
         "name": "location_id",
         "rawType": "object",
         "type": "string"
        },
        {
         "name": "location_url",
         "rawType": "object",
         "type": "string"
        },
        {
         "name": "rq_url",
         "rawType": "object",
         "type": "string"
        },
        {
         "name": "gmap_coordinates",
         "rawType": "object",
         "type": "string"
        },
        {
         "name": "attraction_type",
         "rawType": "object",
         "type": "string"
        },
        {
         "name": "latitude",
         "rawType": "object",
         "type": "string"
        },
        {
         "name": "longitude",
         "rawType": "object",
         "type": "string"
        }
       ],
       "conversionMethod": "pd.DataFrame",
       "ref": "90e9dd63-d4cb-4ed1-878c-0c7c99ec013d",
       "rows": [
        [
         "0",
         "https://www.taiwan.net.tw/m1.aspx?sNo=0001016&id=10",
         "白楊步道",
         "白楊步道水簾洞",
         "0x346885034084ae89:0x59a8b1eac5731c29",
         "https://www.google.com.tw/maps/place/%E7%99%BD%E6%A5%8A%E6%AD%A5%E9%81%93%E6%B0%B4%E7%B0%BE%E6%B4%9E/@24.1805494,121.4743915,17z/data=!3m1!4b1!4m6!3m5!1s0x346885034084ae89:0x59a8b1eac5731c29!8m2!3d24.1805494!4d121.4743915!16s%2Fg%2F11c1qwtxl1?authuser=0&hl=zh-TW&entry=ttu&g_ep=EgoyMDI1MDIxMS4wIKXMDSoASAFQAw%3D%3D",
         "https://www.google.com.tw/maps/rpc/listugcposts?authuser=0&hl=zh-TW&gl=tw&pb=!1m6!1s0x346885034084ae89%3A0x59a8b1eac5731c29!6m4!4m1!1e1!4m1!1e3!2m2!1i10!2s!5m2!1s4M6uZ_WRCqaMvr0PgJ2kgA4!7e81!8m9!2b1!3b1!5b1!7b1!12m4!1b1!2b1!4m1!1e1!11m0!13m1!1e2",
         "24.1805494,121.4743915",
         "自然景觀與戶外",
         "24.1805494",
         "121.4743915"
        ],
        [
         "1",
         "https://www.taiwan.net.tw/m1.aspx?sNo=0001016&id=1003",
         "八斗子海濱公園 / 望幽谷",
         "八斗子海濱公園",
         "0x345d4f79d991ebff:0x4b31be352c6025d8",
         "https://www.google.com.tw/maps/place/%E5%85%AB%E6%96%97%E5%AD%90%E6%B5%B7%E6%BF%B1%E5%85%AC%E5%9C%92/@25.1435888,121.7970437,17z/data=!3m1!4b1!4m6!3m5!1s0x345d4f79d991ebff:0x4b31be352c6025d8!8m2!3d25.143584!4d121.799624!16s%2Fg%2F11xg0jd5h?entry=ttu&g_ep=EgoyMDI1MDIxMS4wIKXMDSoASAFQAw%3D%3D",
         "https://www.google.com.tw/maps/rpc/listugcposts?authuser=0&hl=zh-TW&gl=tw&pb=!1m6!1s0x345d4f79d991ebff%3A0x4b31be352c6025d8!6m4!4m1!1e1!4m1!1e3!2m2!1i10!2s!5m2!1srOOuZ4jhCoLl1e8PvOrp4QQ!7e81!8m9!2b1!3b1!5b1!7b1!12m4!1b1!2b1!4m1!1e1!11m0!13m1!1e2",
         "25.1435888,121.7970437",
         "自然景觀與戶外",
         "25.1435888",
         "121.7970437"
        ],
        [
         "2",
         "https://www.taiwan.net.tw/m1.aspx?sNo=0001016&id=10047",
         "龍洞南口海洋公園（龍洞四季灣）",
         "龍洞四季灣海泳區",
         "0x345d436e06bbbaa1:0xc19904956774fbda",
         "https://www.google.com.tw/maps/place/%E9%BE%8D%E6%B4%9E%E5%9B%9B%E5%AD%A3%E7%81%A3%E6%B5%B7%E6%B3%B3%E5%8D%80/@25.1003443,121.9164923,18z/data=!4m15!1m8!3m7!1s0x345d436e3f806fff:0x906716c65b39e017!2z6b6N5rSe5Y2X5Y-j5rW35rSL5YWs5ZyS!8m2!3d25.10015!4d121.9173!10e1!16s%2Fg%2F1233pg5_7!3m5!1s0x345d436e06bbbaa1:0xc19904956774fbda!8m2!3d25.100789!4d121.918569!16s%2Fg%2F1q62l77h9?entry=ttu&g_ep=EgoyMDI1MDIxMi4wIKXMDSoASAFQAw%3D%3D",
         "https://www.google.com.tw/maps/rpc/listugcposts?authuser=0&hl=zh-TW&gl=tw&pb=!1m6!1s0x345d436e06bbbaa1%3A0xc19904956774fbda!6m4!4m1!1e1!4m1!1e3!2m2!1i10!2s!5m2!1sC0GzZ53-L8XZ1e8PkpyvmQI!7e81!8m9!2b1!3b1!5b1!7b1!12m4!1b1!2b1!4m1!1e1!11m0!13m1!1e2",
         "25.1003443,121.9164923",
         "自然景觀與戶外",
         "25.1003443",
         "121.9164923"
        ],
        [
         "3",
         "https://www.taiwan.net.tw/m1.aspx?sNo=0001016&id=10147",
         "張連昌薩克斯風博物館‧觀光工廠",
         "張連昌薩克斯風",
         "0x3469101487645db9:0x3d4456455bc12054",
         "https://www.google.com.tw/maps/place/%E5%BC%B5%E9%80%A3%E6%98%8C%E8%96%A9%E5%85%8B%E6%96%AF%E9%A2%A8/@24.3125098,120.6920169,17z/data=!3m1!4b1!4m6!3m5!1s0x3469101487645db9:0x3d4456455bc12054!8m2!3d24.3125049!4d120.6945918!16s%2Fm%2F0ynyr4r?hl=zh-TW&entry=ttu&g_ep=EgoyMDI1MDIxMi4wIKXMDSoASAFQAw%3D%3D",
         "https://www.google.com.tw/maps/rpc/listugcposts?authuser=0&hl=zh-TW&gl=tw&pb=!1m6!1s0x3469101487645db9:0x3d4456455bc12054!6m4!4m1!1e1!4m1!1e3!2m2!1i10!2s!5m2!1sK8uoZ4KhO-Kovr0P_aCfsAM!7e81!8m9!2b1!3b1!5b1!7b1!12m4!1b1!2b1!4m1!1e1!11m0!13m1!1e2",
         "24.3125098,120.6920169",
         "人文歷史",
         "24.3125098",
         "120.6920169"
        ],
        [
         "4",
         "https://www.taiwan.net.tw/m1.aspx?sNo=0001016&id=10148",
         "石岡水壩",
         "石岡水壩",
         "0x34691b0ca6f85609:0x402270c976dab396",
         "https://www.google.com.tw/maps/place/%E7%9F%B3%E5%B2%A1%E6%B0%B4%E5%A3%A9/@24.2813301,120.7694244,17z/data=!3m1!4b1!4m6!3m5!1s0x34691b0ca6f85609:0x402270c976dab396!8m2!3d24.2813301!4d120.7694244!16s%2Fm%2F0w3450n?authuser=0&hl=zh-TW&entry=ttu&g_ep=EgoyMDI1MDIxMS4wIKXMDSoASAFQAw%3D%3D",
         "https://www.google.com.tw/maps/rpc/listugcposts?authuser=0&hl=zh-TW&gl=tw&pb=!1m6!1s0x34691b0ca6f85609%3A0x402270c976dab396!6m4!4m1!1e1!4m1!1e3!2m2!1i10!2s!5m2!1sC9SuZ5KIJPiSvr0Pnq6k0Ak!7e81!8m9!2b1!3b1!5b1!7b1!12m4!1b1!2b1!4m1!1e1!11m0!13m1!1e2",
         "24.2813301,120.7694244",
         "城市景觀",
         "24.2813301",
         "120.7694244"
        ]
       ],
       "shape": {
        "columns": 10,
        "rows": 5
       }
      },
      "text/html": [
       "<div>\n",
       "<style scoped>\n",
       "    .dataframe tbody tr th:only-of-type {\n",
       "        vertical-align: middle;\n",
       "    }\n",
       "\n",
       "    .dataframe tbody tr th {\n",
       "        vertical-align: top;\n",
       "    }\n",
       "\n",
       "    .dataframe thead th {\n",
       "        text-align: right;\n",
       "    }\n",
       "</style>\n",
       "<table border=\"1\" class=\"dataframe\">\n",
       "  <thead>\n",
       "    <tr style=\"text-align: right;\">\n",
       "      <th></th>\n",
       "      <th>href</th>\n",
       "      <th>viewpoint</th>\n",
       "      <th>gmap_location</th>\n",
       "      <th>location_id</th>\n",
       "      <th>location_url</th>\n",
       "      <th>rq_url</th>\n",
       "      <th>gmap_coordinates</th>\n",
       "      <th>attraction_type</th>\n",
       "      <th>latitude</th>\n",
       "      <th>longitude</th>\n",
       "    </tr>\n",
       "  </thead>\n",
       "  <tbody>\n",
       "    <tr>\n",
       "      <th>0</th>\n",
       "      <td>https://www.taiwan.net.tw/m1.aspx?sNo=0001016&amp;...</td>\n",
       "      <td>白楊步道</td>\n",
       "      <td>白楊步道水簾洞</td>\n",
       "      <td>0x346885034084ae89:0x59a8b1eac5731c29</td>\n",
       "      <td>https://www.google.com.tw/maps/place/%E7%99%BD...</td>\n",
       "      <td>https://www.google.com.tw/maps/rpc/listugcpost...</td>\n",
       "      <td>24.1805494,121.4743915</td>\n",
       "      <td>自然景觀與戶外</td>\n",
       "      <td>24.1805494</td>\n",
       "      <td>121.4743915</td>\n",
       "    </tr>\n",
       "    <tr>\n",
       "      <th>1</th>\n",
       "      <td>https://www.taiwan.net.tw/m1.aspx?sNo=0001016&amp;...</td>\n",
       "      <td>八斗子海濱公園 / 望幽谷</td>\n",
       "      <td>八斗子海濱公園</td>\n",
       "      <td>0x345d4f79d991ebff:0x4b31be352c6025d8</td>\n",
       "      <td>https://www.google.com.tw/maps/place/%E5%85%AB...</td>\n",
       "      <td>https://www.google.com.tw/maps/rpc/listugcpost...</td>\n",
       "      <td>25.1435888,121.7970437</td>\n",
       "      <td>自然景觀與戶外</td>\n",
       "      <td>25.1435888</td>\n",
       "      <td>121.7970437</td>\n",
       "    </tr>\n",
       "    <tr>\n",
       "      <th>2</th>\n",
       "      <td>https://www.taiwan.net.tw/m1.aspx?sNo=0001016&amp;...</td>\n",
       "      <td>龍洞南口海洋公園（龍洞四季灣）</td>\n",
       "      <td>龍洞四季灣海泳區</td>\n",
       "      <td>0x345d436e06bbbaa1:0xc19904956774fbda</td>\n",
       "      <td>https://www.google.com.tw/maps/place/%E9%BE%8D...</td>\n",
       "      <td>https://www.google.com.tw/maps/rpc/listugcpost...</td>\n",
       "      <td>25.1003443,121.9164923</td>\n",
       "      <td>自然景觀與戶外</td>\n",
       "      <td>25.1003443</td>\n",
       "      <td>121.9164923</td>\n",
       "    </tr>\n",
       "    <tr>\n",
       "      <th>3</th>\n",
       "      <td>https://www.taiwan.net.tw/m1.aspx?sNo=0001016&amp;...</td>\n",
       "      <td>張連昌薩克斯風博物館‧觀光工廠</td>\n",
       "      <td>張連昌薩克斯風</td>\n",
       "      <td>0x3469101487645db9:0x3d4456455bc12054</td>\n",
       "      <td>https://www.google.com.tw/maps/place/%E5%BC%B5...</td>\n",
       "      <td>https://www.google.com.tw/maps/rpc/listugcpost...</td>\n",
       "      <td>24.3125098,120.6920169</td>\n",
       "      <td>人文歷史</td>\n",
       "      <td>24.3125098</td>\n",
       "      <td>120.6920169</td>\n",
       "    </tr>\n",
       "    <tr>\n",
       "      <th>4</th>\n",
       "      <td>https://www.taiwan.net.tw/m1.aspx?sNo=0001016&amp;...</td>\n",
       "      <td>石岡水壩</td>\n",
       "      <td>石岡水壩</td>\n",
       "      <td>0x34691b0ca6f85609:0x402270c976dab396</td>\n",
       "      <td>https://www.google.com.tw/maps/place/%E7%9F%B3...</td>\n",
       "      <td>https://www.google.com.tw/maps/rpc/listugcpost...</td>\n",
       "      <td>24.2813301,120.7694244</td>\n",
       "      <td>城市景觀</td>\n",
       "      <td>24.2813301</td>\n",
       "      <td>120.7694244</td>\n",
       "    </tr>\n",
       "  </tbody>\n",
       "</table>\n",
       "</div>"
      ],
      "text/plain": [
       "                                                href        viewpoint  \\\n",
       "0  https://www.taiwan.net.tw/m1.aspx?sNo=0001016&...             白楊步道   \n",
       "1  https://www.taiwan.net.tw/m1.aspx?sNo=0001016&...    八斗子海濱公園 / 望幽谷   \n",
       "2  https://www.taiwan.net.tw/m1.aspx?sNo=0001016&...  龍洞南口海洋公園（龍洞四季灣）   \n",
       "3  https://www.taiwan.net.tw/m1.aspx?sNo=0001016&...  張連昌薩克斯風博物館‧觀光工廠   \n",
       "4  https://www.taiwan.net.tw/m1.aspx?sNo=0001016&...             石岡水壩   \n",
       "\n",
       "  gmap_location                            location_id  \\\n",
       "0       白楊步道水簾洞  0x346885034084ae89:0x59a8b1eac5731c29   \n",
       "1       八斗子海濱公園  0x345d4f79d991ebff:0x4b31be352c6025d8   \n",
       "2      龍洞四季灣海泳區  0x345d436e06bbbaa1:0xc19904956774fbda   \n",
       "3       張連昌薩克斯風  0x3469101487645db9:0x3d4456455bc12054   \n",
       "4          石岡水壩  0x34691b0ca6f85609:0x402270c976dab396   \n",
       "\n",
       "                                        location_url  \\\n",
       "0  https://www.google.com.tw/maps/place/%E7%99%BD...   \n",
       "1  https://www.google.com.tw/maps/place/%E5%85%AB...   \n",
       "2  https://www.google.com.tw/maps/place/%E9%BE%8D...   \n",
       "3  https://www.google.com.tw/maps/place/%E5%BC%B5...   \n",
       "4  https://www.google.com.tw/maps/place/%E7%9F%B3...   \n",
       "\n",
       "                                              rq_url        gmap_coordinates  \\\n",
       "0  https://www.google.com.tw/maps/rpc/listugcpost...  24.1805494,121.4743915   \n",
       "1  https://www.google.com.tw/maps/rpc/listugcpost...  25.1435888,121.7970437   \n",
       "2  https://www.google.com.tw/maps/rpc/listugcpost...  25.1003443,121.9164923   \n",
       "3  https://www.google.com.tw/maps/rpc/listugcpost...  24.3125098,120.6920169   \n",
       "4  https://www.google.com.tw/maps/rpc/listugcpost...  24.2813301,120.7694244   \n",
       "\n",
       "  attraction_type    latitude    longitude  \n",
       "0         自然景觀與戶外  24.1805494  121.4743915  \n",
       "1         自然景觀與戶外  25.1435888  121.7970437  \n",
       "2         自然景觀與戶外  25.1003443  121.9164923  \n",
       "3            人文歷史  24.3125098  120.6920169  \n",
       "4            城市景觀  24.2813301  120.7694244  "
      ]
     },
     "execution_count": 2,
     "metadata": {},
     "output_type": "execute_result"
    }
   ],
   "source": [
    "# 檢視觀光局地點清單\n",
    "list_838 = pd.read_csv('../data/838-地點清單.csv')\n",
    "\n",
    "# 切出景點經緯度\n",
    "list_838[['latitude', 'longitude']] = list_838['gmap_coordinates'].str.split(\",\", expand=True)\n",
    "\n",
    "list_838.head()"
   ]
  },
  {
   "cell_type": "code",
   "execution_count": 3,
   "metadata": {},
   "outputs": [
    {
     "data": {
      "application/vnd.microsoft.datawrangler.viewer.v0+json": {
       "columns": [
        {
         "name": "index",
         "rawType": "int64",
         "type": "integer"
        },
        {
         "name": "location_id",
         "rawType": "object",
         "type": "string"
        },
        {
         "name": "gmap_location",
         "rawType": "object",
         "type": "string"
        },
        {
         "name": "attraction_type",
         "rawType": "object",
         "type": "string"
        }
       ],
       "conversionMethod": "pd.DataFrame",
       "ref": "5773ee72-3aa8-4531-bb6c-3028f7bc86bb",
       "rows": [
        [
         "0",
         "0x346885034084ae89:0x59a8b1eac5731c29",
         "白楊步道水簾洞",
         "自然景觀與戶外"
        ],
        [
         "1",
         "0x345d4f79d991ebff:0x4b31be352c6025d8",
         "八斗子海濱公園",
         "自然景觀與戶外"
        ],
        [
         "2",
         "0x345d436e06bbbaa1:0xc19904956774fbda",
         "龍洞四季灣海泳區",
         "自然景觀與戶外"
        ],
        [
         "3",
         "0x3469101487645db9:0x3d4456455bc12054",
         "張連昌薩克斯風",
         "人文歷史"
        ],
        [
         "4",
         "0x34691b0ca6f85609:0x402270c976dab396",
         "石岡水壩",
         "城市景觀"
        ]
       ],
       "shape": {
        "columns": 3,
        "rows": 5
       }
      },
      "text/html": [
       "<div>\n",
       "<style scoped>\n",
       "    .dataframe tbody tr th:only-of-type {\n",
       "        vertical-align: middle;\n",
       "    }\n",
       "\n",
       "    .dataframe tbody tr th {\n",
       "        vertical-align: top;\n",
       "    }\n",
       "\n",
       "    .dataframe thead th {\n",
       "        text-align: right;\n",
       "    }\n",
       "</style>\n",
       "<table border=\"1\" class=\"dataframe\">\n",
       "  <thead>\n",
       "    <tr style=\"text-align: right;\">\n",
       "      <th></th>\n",
       "      <th>location_id</th>\n",
       "      <th>gmap_location</th>\n",
       "      <th>attraction_type</th>\n",
       "    </tr>\n",
       "  </thead>\n",
       "  <tbody>\n",
       "    <tr>\n",
       "      <th>0</th>\n",
       "      <td>0x346885034084ae89:0x59a8b1eac5731c29</td>\n",
       "      <td>白楊步道水簾洞</td>\n",
       "      <td>自然景觀與戶外</td>\n",
       "    </tr>\n",
       "    <tr>\n",
       "      <th>1</th>\n",
       "      <td>0x345d4f79d991ebff:0x4b31be352c6025d8</td>\n",
       "      <td>八斗子海濱公園</td>\n",
       "      <td>自然景觀與戶外</td>\n",
       "    </tr>\n",
       "    <tr>\n",
       "      <th>2</th>\n",
       "      <td>0x345d436e06bbbaa1:0xc19904956774fbda</td>\n",
       "      <td>龍洞四季灣海泳區</td>\n",
       "      <td>自然景觀與戶外</td>\n",
       "    </tr>\n",
       "    <tr>\n",
       "      <th>3</th>\n",
       "      <td>0x3469101487645db9:0x3d4456455bc12054</td>\n",
       "      <td>張連昌薩克斯風</td>\n",
       "      <td>人文歷史</td>\n",
       "    </tr>\n",
       "    <tr>\n",
       "      <th>4</th>\n",
       "      <td>0x34691b0ca6f85609:0x402270c976dab396</td>\n",
       "      <td>石岡水壩</td>\n",
       "      <td>城市景觀</td>\n",
       "    </tr>\n",
       "  </tbody>\n",
       "</table>\n",
       "</div>"
      ],
      "text/plain": [
       "                             location_id gmap_location attraction_type\n",
       "0  0x346885034084ae89:0x59a8b1eac5731c29       白楊步道水簾洞         自然景觀與戶外\n",
       "1  0x345d4f79d991ebff:0x4b31be352c6025d8       八斗子海濱公園         自然景觀與戶外\n",
       "2  0x345d436e06bbbaa1:0xc19904956774fbda      龍洞四季灣海泳區         自然景觀與戶外\n",
       "3  0x3469101487645db9:0x3d4456455bc12054       張連昌薩克斯風            人文歷史\n",
       "4  0x34691b0ca6f85609:0x402270c976dab396          石岡水壩            城市景觀"
      ]
     },
     "execution_count": 3,
     "metadata": {},
     "output_type": "execute_result"
    }
   ],
   "source": [
    "# 取出地點id gmap名稱 地點分類\n",
    "new_list_838 = list_838[['location_id','gmap_location', 'attraction_type']]\n",
    "new_list_838.head()"
   ]
  },
  {
   "cell_type": "code",
   "execution_count": 4,
   "metadata": {},
   "outputs": [
    {
     "data": {
      "application/vnd.microsoft.datawrangler.viewer.v0+json": {
       "columns": [
        {
         "name": "index",
         "rawType": "int64",
         "type": "integer"
        },
        {
         "name": "location_id",
         "rawType": "object",
         "type": "string"
        },
        {
         "name": "gmap_location",
         "rawType": "object",
         "type": "string"
        },
        {
         "name": "class",
         "rawType": "object",
         "type": "unknown"
        },
        {
         "name": "address",
         "rawType": "object",
         "type": "string"
        },
        {
         "name": "summary_1",
         "rawType": "object",
         "type": "unknown"
        },
        {
         "name": "summary_2",
         "rawType": "object",
         "type": "unknown"
        },
        {
         "name": "opening_hours",
         "rawType": "object",
         "type": "unknown"
        },
        {
         "name": "entrance_fee",
         "rawType": "object",
         "type": "unknown"
        },
        {
         "name": "stay_time",
         "rawType": "object",
         "type": "unknown"
        },
        {
         "name": "tags",
         "rawType": "object",
         "type": "unknown"
        },
        {
         "name": "gmap_coordinates",
         "rawType": "object",
         "type": "unknown"
        }
       ],
       "conversionMethod": "pd.DataFrame",
       "ref": "a5fbf576-6d3f-43de-8d1f-54ecba303b1a",
       "rows": [
        [
         "0",
         "0x346885034084ae89:0x59a8b1eac5731c29",
         "白楊步道水簾洞",
         "['旅遊景點']",
         "972花蓮縣秀林鄉台8線166.5K號",
         "可經由健行步道抵達的崖邊洞穴",
         "熱門的步道，可穿越河谷和隧道前往有水自洞頂流下的狹小洞穴。",
         "{'星期三': '24 小時營業', '星期四': '24 小時營業', '星期五': '24 小時營業', '星期六': '24 小時營業', '星期日': '24 小時營業', '星期一': '24 小時營業', '星期二': '24 小時營業'}",
         null,
         null,
         "{'children': ['適合兒童']}",
         "[121.4743915, 24.1805494]"
        ],
        [
         "1",
         "0x345d4f79d991ebff:0x4b31be352c6025d8",
         "八斗子海濱公園",
         "['公園', '旅遊景點']",
         "202基隆市中正區北寧路21號",
         "可飽覽大海和野花景緻的陡峭步道",
         "鬱鬱蔥蔥的崎嶇山坡，可欣賞百合花盛開的美景，並設有階梯通往坐擁漁港和東海風光的瞭望台。",
         "{'星期三': '24 小時營業', '星期四': '24 小時營業', '星期五': '24 小時營業', '星期六': '24 小時營業', '星期日': '24 小時營業', '星期一': '24 小時營業', '星期二': '24 小時營業'}",
         null,
         null,
         "{'accessibility': ['無障礙停車場'], 'activities': ['健行'], 'amenities': ['公共廁所'], 'children': ['適合兒童', '適合兒童的遠足活動'], 'pets': ['可帶狗入住']}",
         "[121.7970437, 25.1435888]"
        ],
        [
         "2",
         "0x345d436e06bbbaa1:0xc19904956774fbda",
         "龍洞四季灣海泳區",
         "['泳池']",
         "新北市貢寮區",
         null,
         null,
         "{'星期六': '09:00–17:30', '星期日': '09:00–17:30', '星期一': '09:00–17:30', '星期二': '09:00–17:30', '星期三': '09:00–17:30', '星期四': '09:00–17:30', '星期五': '09:00–17:30'}",
         null,
         null,
         "{'accessibility': ['無障礙入口', '無障礙停車場']}",
         "[121.9164923, 25.1003443]"
        ],
        [
         "3",
         "0x3469101487645db9:0x3d4456455bc12054",
         "張連昌薩克斯風",
         "['製造商', '博物館', '音樂學校', '樂器租賃服務', '樂器維修店', '樂器店']",
         "421台中市后里區公安路330-1號",
         null,
         null,
         "{'星期三': '09:00–17:00', '星期四': '09:00–17:00', '星期五': '09:00–17:00', '星期六': '09:00–17:00', '星期日': '09:00–17:00', '星期一': '09:00–17:00', '星期二': '09:00–17:00'}",
         null,
         null,
         "{'accessibility': ['無障礙入口', '無障礙洗手間', '無障礙座位'], 'amenities': ['性別友善洗手間'], 'crowd': ['跨性別友善空間', 'LGBTQ+ 友善空間'], 'payments': ['信用卡', '簽帳金融卡', '信用卡']}",
         "[120.6920169, 24.3125098]"
        ],
        [
         "4",
         "0x34691b0ca6f85609:0x402270c976dab396",
         "石岡水壩",
         "['堰', '旅遊景點']",
         "422台中市石岡區豐勢路1238號",
         "適合騎單車和賞鳥的舊鐵路",
         "毗鄰水庫的休憩區和賞鳥景點，有由廢棄鐵軌改建而成的單車道。",
         "{'星期三': '06:00–18:00', '星期四': '06:00–18:00', '星期五': '06:00–18:00', '星期六': '06:00–18:00', '星期日': '06:00–18:00', '星期一': '06:00–18:00', '星期二': '06:00–18:00'}",
         null,
         null,
         "{'accessibility': ['無障礙入口', '無障礙停車場']}",
         "[120.7694244, 24.2813301]"
        ]
       ],
       "shape": {
        "columns": 11,
        "rows": 5
       }
      },
      "text/html": [
       "<div>\n",
       "<style scoped>\n",
       "    .dataframe tbody tr th:only-of-type {\n",
       "        vertical-align: middle;\n",
       "    }\n",
       "\n",
       "    .dataframe tbody tr th {\n",
       "        vertical-align: top;\n",
       "    }\n",
       "\n",
       "    .dataframe thead th {\n",
       "        text-align: right;\n",
       "    }\n",
       "</style>\n",
       "<table border=\"1\" class=\"dataframe\">\n",
       "  <thead>\n",
       "    <tr style=\"text-align: right;\">\n",
       "      <th></th>\n",
       "      <th>location_id</th>\n",
       "      <th>gmap_location</th>\n",
       "      <th>class</th>\n",
       "      <th>address</th>\n",
       "      <th>summary_1</th>\n",
       "      <th>summary_2</th>\n",
       "      <th>opening_hours</th>\n",
       "      <th>entrance_fee</th>\n",
       "      <th>stay_time</th>\n",
       "      <th>tags</th>\n",
       "      <th>gmap_coordinates</th>\n",
       "    </tr>\n",
       "  </thead>\n",
       "  <tbody>\n",
       "    <tr>\n",
       "      <th>0</th>\n",
       "      <td>0x346885034084ae89:0x59a8b1eac5731c29</td>\n",
       "      <td>白楊步道水簾洞</td>\n",
       "      <td>[旅遊景點]</td>\n",
       "      <td>972花蓮縣秀林鄉台8線166.5K號</td>\n",
       "      <td>可經由健行步道抵達的崖邊洞穴</td>\n",
       "      <td>熱門的步道，可穿越河谷和隧道前往有水自洞頂流下的狹小洞穴。</td>\n",
       "      <td>{'星期三': '24 小時營業', '星期四': '24 小時營業', '星期五': '2...</td>\n",
       "      <td>None</td>\n",
       "      <td>None</td>\n",
       "      <td>{'children': ['適合兒童']}</td>\n",
       "      <td>[121.4743915, 24.1805494]</td>\n",
       "    </tr>\n",
       "    <tr>\n",
       "      <th>1</th>\n",
       "      <td>0x345d4f79d991ebff:0x4b31be352c6025d8</td>\n",
       "      <td>八斗子海濱公園</td>\n",
       "      <td>[公園, 旅遊景點]</td>\n",
       "      <td>202基隆市中正區北寧路21號</td>\n",
       "      <td>可飽覽大海和野花景緻的陡峭步道</td>\n",
       "      <td>鬱鬱蔥蔥的崎嶇山坡，可欣賞百合花盛開的美景，並設有階梯通往坐擁漁港和東海風光的瞭望台。</td>\n",
       "      <td>{'星期三': '24 小時營業', '星期四': '24 小時營業', '星期五': '2...</td>\n",
       "      <td>None</td>\n",
       "      <td>None</td>\n",
       "      <td>{'accessibility': ['無障礙停車場'], 'activities': ['...</td>\n",
       "      <td>[121.7970437, 25.1435888]</td>\n",
       "    </tr>\n",
       "    <tr>\n",
       "      <th>2</th>\n",
       "      <td>0x345d436e06bbbaa1:0xc19904956774fbda</td>\n",
       "      <td>龍洞四季灣海泳區</td>\n",
       "      <td>[泳池]</td>\n",
       "      <td>新北市貢寮區</td>\n",
       "      <td>None</td>\n",
       "      <td>None</td>\n",
       "      <td>{'星期六': '09:00–17:30', '星期日': '09:00–17:30', '...</td>\n",
       "      <td>None</td>\n",
       "      <td>None</td>\n",
       "      <td>{'accessibility': ['無障礙入口', '無障礙停車場']}</td>\n",
       "      <td>[121.9164923, 25.1003443]</td>\n",
       "    </tr>\n",
       "    <tr>\n",
       "      <th>3</th>\n",
       "      <td>0x3469101487645db9:0x3d4456455bc12054</td>\n",
       "      <td>張連昌薩克斯風</td>\n",
       "      <td>[製造商, 博物館, 音樂學校, 樂器租賃服務, 樂器維修店, 樂器店]</td>\n",
       "      <td>421台中市后里區公安路330-1號</td>\n",
       "      <td>None</td>\n",
       "      <td>None</td>\n",
       "      <td>{'星期三': '09:00–17:00', '星期四': '09:00–17:00', '...</td>\n",
       "      <td>None</td>\n",
       "      <td>None</td>\n",
       "      <td>{'accessibility': ['無障礙入口', '無障礙洗手間', '無障礙座位']...</td>\n",
       "      <td>[120.6920169, 24.3125098]</td>\n",
       "    </tr>\n",
       "    <tr>\n",
       "      <th>4</th>\n",
       "      <td>0x34691b0ca6f85609:0x402270c976dab396</td>\n",
       "      <td>石岡水壩</td>\n",
       "      <td>[堰, 旅遊景點]</td>\n",
       "      <td>422台中市石岡區豐勢路1238號</td>\n",
       "      <td>適合騎單車和賞鳥的舊鐵路</td>\n",
       "      <td>毗鄰水庫的休憩區和賞鳥景點，有由廢棄鐵軌改建而成的單車道。</td>\n",
       "      <td>{'星期三': '06:00–18:00', '星期四': '06:00–18:00', '...</td>\n",
       "      <td>None</td>\n",
       "      <td>None</td>\n",
       "      <td>{'accessibility': ['無障礙入口', '無障礙停車場']}</td>\n",
       "      <td>[120.7694244, 24.2813301]</td>\n",
       "    </tr>\n",
       "  </tbody>\n",
       "</table>\n",
       "</div>"
      ],
      "text/plain": [
       "                             location_id gmap_location  \\\n",
       "0  0x346885034084ae89:0x59a8b1eac5731c29       白楊步道水簾洞   \n",
       "1  0x345d4f79d991ebff:0x4b31be352c6025d8       八斗子海濱公園   \n",
       "2  0x345d436e06bbbaa1:0xc19904956774fbda      龍洞四季灣海泳區   \n",
       "3  0x3469101487645db9:0x3d4456455bc12054       張連昌薩克斯風   \n",
       "4  0x34691b0ca6f85609:0x402270c976dab396          石岡水壩   \n",
       "\n",
       "                                  class              address        summary_1  \\\n",
       "0                                [旅遊景點]  972花蓮縣秀林鄉台8線166.5K號   可經由健行步道抵達的崖邊洞穴   \n",
       "1                            [公園, 旅遊景點]      202基隆市中正區北寧路21號  可飽覽大海和野花景緻的陡峭步道   \n",
       "2                                  [泳池]               新北市貢寮區             None   \n",
       "3  [製造商, 博物館, 音樂學校, 樂器租賃服務, 樂器維修店, 樂器店]   421台中市后里區公安路330-1號             None   \n",
       "4                             [堰, 旅遊景點]    422台中市石岡區豐勢路1238號     適合騎單車和賞鳥的舊鐵路   \n",
       "\n",
       "                                     summary_2  \\\n",
       "0                熱門的步道，可穿越河谷和隧道前往有水自洞頂流下的狹小洞穴。   \n",
       "1  鬱鬱蔥蔥的崎嶇山坡，可欣賞百合花盛開的美景，並設有階梯通往坐擁漁港和東海風光的瞭望台。   \n",
       "2                                         None   \n",
       "3                                         None   \n",
       "4                毗鄰水庫的休憩區和賞鳥景點，有由廢棄鐵軌改建而成的單車道。   \n",
       "\n",
       "                                       opening_hours entrance_fee stay_time  \\\n",
       "0  {'星期三': '24 小時營業', '星期四': '24 小時營業', '星期五': '2...         None      None   \n",
       "1  {'星期三': '24 小時營業', '星期四': '24 小時營業', '星期五': '2...         None      None   \n",
       "2  {'星期六': '09:00–17:30', '星期日': '09:00–17:30', '...         None      None   \n",
       "3  {'星期三': '09:00–17:00', '星期四': '09:00–17:00', '...         None      None   \n",
       "4  {'星期三': '06:00–18:00', '星期四': '06:00–18:00', '...         None      None   \n",
       "\n",
       "                                                tags  \\\n",
       "0                             {'children': ['適合兒童']}   \n",
       "1  {'accessibility': ['無障礙停車場'], 'activities': ['...   \n",
       "2             {'accessibility': ['無障礙入口', '無障礙停車場']}   \n",
       "3  {'accessibility': ['無障礙入口', '無障礙洗手間', '無障礙座位']...   \n",
       "4             {'accessibility': ['無障礙入口', '無障礙停車場']}   \n",
       "\n",
       "            gmap_coordinates  \n",
       "0  [121.4743915, 24.1805494]  \n",
       "1  [121.7970437, 25.1435888]  \n",
       "2  [121.9164923, 25.1003443]  \n",
       "3  [120.6920169, 24.3125098]  \n",
       "4  [120.7694244, 24.2813301]  "
      ]
     },
     "execution_count": 4,
     "metadata": {},
     "output_type": "execute_result"
    }
   ],
   "source": [
    "# 檢視地點基本資訊 json格式\n",
    "info_838 = pd.read_json('../data/838-地點基本資訊.json')\n",
    "info_838.head()"
   ]
  },
  {
   "cell_type": "code",
   "execution_count": 6,
   "metadata": {},
   "outputs": [
    {
     "data": {
      "application/vnd.microsoft.datawrangler.viewer.v0+json": {
       "columns": [
        {
         "name": "index",
         "rawType": "int64",
         "type": "integer"
        },
        {
         "name": "location_id",
         "rawType": "object",
         "type": "string"
        },
        {
         "name": "gmap_location",
         "rawType": "object",
         "type": "string"
        },
        {
         "name": "address",
         "rawType": "object",
         "type": "string"
        }
       ],
       "conversionMethod": "pd.DataFrame",
       "ref": "10744f27-dfab-4ca9-a2b3-c0cc07f46d39",
       "rows": [
        [
         "0",
         "0x346885034084ae89:0x59a8b1eac5731c29",
         "白楊步道水簾洞",
         "972花蓮縣秀林鄉台8線166.5K號"
        ],
        [
         "1",
         "0x345d4f79d991ebff:0x4b31be352c6025d8",
         "八斗子海濱公園",
         "202基隆市中正區北寧路21號"
        ],
        [
         "2",
         "0x345d436e06bbbaa1:0xc19904956774fbda",
         "龍洞四季灣海泳區",
         "新北市貢寮區"
        ],
        [
         "3",
         "0x3469101487645db9:0x3d4456455bc12054",
         "張連昌薩克斯風",
         "421台中市后里區公安路330-1號"
        ],
        [
         "4",
         "0x34691b0ca6f85609:0x402270c976dab396",
         "石岡水壩",
         "422台中市石岡區豐勢路1238號"
        ]
       ],
       "shape": {
        "columns": 3,
        "rows": 5
       }
      },
      "text/html": [
       "<div>\n",
       "<style scoped>\n",
       "    .dataframe tbody tr th:only-of-type {\n",
       "        vertical-align: middle;\n",
       "    }\n",
       "\n",
       "    .dataframe tbody tr th {\n",
       "        vertical-align: top;\n",
       "    }\n",
       "\n",
       "    .dataframe thead th {\n",
       "        text-align: right;\n",
       "    }\n",
       "</style>\n",
       "<table border=\"1\" class=\"dataframe\">\n",
       "  <thead>\n",
       "    <tr style=\"text-align: right;\">\n",
       "      <th></th>\n",
       "      <th>location_id</th>\n",
       "      <th>gmap_location</th>\n",
       "      <th>address</th>\n",
       "    </tr>\n",
       "  </thead>\n",
       "  <tbody>\n",
       "    <tr>\n",
       "      <th>0</th>\n",
       "      <td>0x346885034084ae89:0x59a8b1eac5731c29</td>\n",
       "      <td>白楊步道水簾洞</td>\n",
       "      <td>972花蓮縣秀林鄉台8線166.5K號</td>\n",
       "    </tr>\n",
       "    <tr>\n",
       "      <th>1</th>\n",
       "      <td>0x345d4f79d991ebff:0x4b31be352c6025d8</td>\n",
       "      <td>八斗子海濱公園</td>\n",
       "      <td>202基隆市中正區北寧路21號</td>\n",
       "    </tr>\n",
       "    <tr>\n",
       "      <th>2</th>\n",
       "      <td>0x345d436e06bbbaa1:0xc19904956774fbda</td>\n",
       "      <td>龍洞四季灣海泳區</td>\n",
       "      <td>新北市貢寮區</td>\n",
       "    </tr>\n",
       "    <tr>\n",
       "      <th>3</th>\n",
       "      <td>0x3469101487645db9:0x3d4456455bc12054</td>\n",
       "      <td>張連昌薩克斯風</td>\n",
       "      <td>421台中市后里區公安路330-1號</td>\n",
       "    </tr>\n",
       "    <tr>\n",
       "      <th>4</th>\n",
       "      <td>0x34691b0ca6f85609:0x402270c976dab396</td>\n",
       "      <td>石岡水壩</td>\n",
       "      <td>422台中市石岡區豐勢路1238號</td>\n",
       "    </tr>\n",
       "  </tbody>\n",
       "</table>\n",
       "</div>"
      ],
      "text/plain": [
       "                             location_id gmap_location              address\n",
       "0  0x346885034084ae89:0x59a8b1eac5731c29       白楊步道水簾洞  972花蓮縣秀林鄉台8線166.5K號\n",
       "1  0x345d4f79d991ebff:0x4b31be352c6025d8       八斗子海濱公園      202基隆市中正區北寧路21號\n",
       "2  0x345d436e06bbbaa1:0xc19904956774fbda      龍洞四季灣海泳區               新北市貢寮區\n",
       "3  0x3469101487645db9:0x3d4456455bc12054       張連昌薩克斯風   421台中市后里區公安路330-1號\n",
       "4  0x34691b0ca6f85609:0x402270c976dab396          石岡水壩    422台中市石岡區豐勢路1238號"
      ]
     },
     "execution_count": 6,
     "metadata": {},
     "output_type": "execute_result"
    }
   ],
   "source": [
    "# 取出地點id gmap名稱 地點分類\n",
    "new_info_838 = info_838[['location_id','gmap_location', 'address']]\n",
    "new_info_838.head()"
   ]
  },
  {
   "cell_type": "code",
   "execution_count": 7,
   "metadata": {},
   "outputs": [
    {
     "data": {
      "text/plain": [
       "np.int64(0)"
      ]
     },
     "execution_count": 7,
     "metadata": {},
     "output_type": "execute_result"
    }
   ],
   "source": [
    "# 只保留縣市資訊\n",
    "import re\n",
    "\n",
    "# 提取所在縣市的函式\n",
    "def extract_city(address):\n",
    "    match = re.search(r\"[\\u4E00-\\u9FA5]{3}\", address)\n",
    "    if match:\n",
    "        return match.group(0)\n",
    "    else:\n",
    "        return None\n",
    "    \n",
    "# 在DataFrame 中使用apply() 代入上面的函式\n",
    "new_info_838['address'] = new_info_838['address'].apply(extract_city)\n",
    "\n",
    "new_info_838['address'].isnull().sum()"
   ]
  },
  {
   "cell_type": "code",
   "execution_count": 8,
   "metadata": {},
   "outputs": [
    {
     "name": "stdout",
     "output_type": "stream",
     "text": [
      "address\n",
      "台北市    79\n",
      "新北市    78\n",
      "高雄市    61\n",
      "南投縣    60\n",
      "台南市    58\n",
      "花蓮縣    49\n",
      "台中市    47\n",
      "台東縣    46\n",
      "屏東縣    41\n",
      "澎湖縣    41\n",
      "苗栗縣    34\n",
      "桃園市    34\n",
      "彰化縣    33\n",
      "宜蘭縣    32\n",
      "嘉義縣    28\n",
      "新竹縣    24\n",
      "連江縣    21\n",
      "基隆市    20\n",
      "金門縣    18\n",
      "雲林縣    13\n",
      "嘉義市    11\n",
      "新竹市    10\n",
      "Name: count, dtype: int64\n"
     ]
    }
   ],
   "source": [
    "# 檢查是否只有22個縣市資料\n",
    "print(new_info_838['address'].value_counts())"
   ]
  },
  {
   "cell_type": "code",
   "execution_count": null,
   "metadata": {},
   "outputs": [
    {
     "name": "stdout",
     "output_type": "stream",
     "text": [
      "location_id        838\n",
      "gmap_location      838\n",
      "attraction_type    838\n",
      "address            838\n",
      "dtype: int64\n"
     ]
    },
    {
     "data": {
      "application/vnd.microsoft.datawrangler.viewer.v0+json": {
       "columns": [
        {
         "name": "index",
         "rawType": "int64",
         "type": "integer"
        },
        {
         "name": "location_id",
         "rawType": "object",
         "type": "string"
        },
        {
         "name": "gmap_location",
         "rawType": "object",
         "type": "string"
        },
        {
         "name": "attraction_type",
         "rawType": "object",
         "type": "string"
        },
        {
         "name": "address",
         "rawType": "object",
         "type": "string"
        }
       ],
       "conversionMethod": "pd.DataFrame",
       "ref": "913cfada-c76c-4023-a6e7-1fe182ef6bb9",
       "rows": [
        [
         "0",
         "0x346885034084ae89:0x59a8b1eac5731c29",
         "白楊步道水簾洞",
         "自然景觀與戶外",
         "花蓮縣"
        ],
        [
         "1",
         "0x345d4f79d991ebff:0x4b31be352c6025d8",
         "八斗子海濱公園",
         "自然景觀與戶外",
         "基隆市"
        ],
        [
         "2",
         "0x345d436e06bbbaa1:0xc19904956774fbda",
         "龍洞四季灣海泳區",
         "自然景觀與戶外",
         "新北市"
        ],
        [
         "3",
         "0x3469101487645db9:0x3d4456455bc12054",
         "張連昌薩克斯風",
         "人文歷史",
         "台中市"
        ],
        [
         "4",
         "0x34691b0ca6f85609:0x402270c976dab396",
         "石岡水壩",
         "城市景觀",
         "台中市"
        ]
       ],
       "shape": {
        "columns": 4,
        "rows": 5
       }
      },
      "text/html": [
       "<div>\n",
       "<style scoped>\n",
       "    .dataframe tbody tr th:only-of-type {\n",
       "        vertical-align: middle;\n",
       "    }\n",
       "\n",
       "    .dataframe tbody tr th {\n",
       "        vertical-align: top;\n",
       "    }\n",
       "\n",
       "    .dataframe thead th {\n",
       "        text-align: right;\n",
       "    }\n",
       "</style>\n",
       "<table border=\"1\" class=\"dataframe\">\n",
       "  <thead>\n",
       "    <tr style=\"text-align: right;\">\n",
       "      <th></th>\n",
       "      <th>location_id</th>\n",
       "      <th>gmap_location</th>\n",
       "      <th>attraction_type</th>\n",
       "      <th>address</th>\n",
       "    </tr>\n",
       "  </thead>\n",
       "  <tbody>\n",
       "    <tr>\n",
       "      <th>0</th>\n",
       "      <td>0x346885034084ae89:0x59a8b1eac5731c29</td>\n",
       "      <td>白楊步道水簾洞</td>\n",
       "      <td>自然景觀與戶外</td>\n",
       "      <td>花蓮縣</td>\n",
       "    </tr>\n",
       "    <tr>\n",
       "      <th>1</th>\n",
       "      <td>0x345d4f79d991ebff:0x4b31be352c6025d8</td>\n",
       "      <td>八斗子海濱公園</td>\n",
       "      <td>自然景觀與戶外</td>\n",
       "      <td>基隆市</td>\n",
       "    </tr>\n",
       "    <tr>\n",
       "      <th>2</th>\n",
       "      <td>0x345d436e06bbbaa1:0xc19904956774fbda</td>\n",
       "      <td>龍洞四季灣海泳區</td>\n",
       "      <td>自然景觀與戶外</td>\n",
       "      <td>新北市</td>\n",
       "    </tr>\n",
       "    <tr>\n",
       "      <th>3</th>\n",
       "      <td>0x3469101487645db9:0x3d4456455bc12054</td>\n",
       "      <td>張連昌薩克斯風</td>\n",
       "      <td>人文歷史</td>\n",
       "      <td>台中市</td>\n",
       "    </tr>\n",
       "    <tr>\n",
       "      <th>4</th>\n",
       "      <td>0x34691b0ca6f85609:0x402270c976dab396</td>\n",
       "      <td>石岡水壩</td>\n",
       "      <td>城市景觀</td>\n",
       "      <td>台中市</td>\n",
       "    </tr>\n",
       "  </tbody>\n",
       "</table>\n",
       "</div>"
      ],
      "text/plain": [
       "                             location_id gmap_location attraction_type address\n",
       "0  0x346885034084ae89:0x59a8b1eac5731c29       白楊步道水簾洞         自然景觀與戶外     花蓮縣\n",
       "1  0x345d4f79d991ebff:0x4b31be352c6025d8       八斗子海濱公園         自然景觀與戶外     基隆市\n",
       "2  0x345d436e06bbbaa1:0xc19904956774fbda      龍洞四季灣海泳區         自然景觀與戶外     新北市\n",
       "3  0x3469101487645db9:0x3d4456455bc12054       張連昌薩克斯風            人文歷史     台中市\n",
       "4  0x34691b0ca6f85609:0x402270c976dab396          石岡水壩            城市景觀     台中市"
      ]
     },
     "execution_count": 9,
     "metadata": {},
     "output_type": "execute_result"
    }
   ],
   "source": [
    "# 合併資料表\n",
    "new_basic_info_838 = pd.merge(new_list_838, new_info_838)\n",
    "\n",
    "# 確認是否完整合併\n",
    "print(new_basic_info_838.count())\n",
    "\n",
    "# 確認合併結果\n",
    "new_basic_info_838.head()"
   ]
  },
  {
   "cell_type": "code",
   "execution_count": 10,
   "metadata": {},
   "outputs": [],
   "source": [
    "# 另存合併後的基本資料表\n",
    "new_basic_info_838.to_csv('../data/838-new_basic_info.csv', index=False, encoding='utf-8-sig')"
   ]
  },
  {
   "cell_type": "code",
   "execution_count": 11,
   "metadata": {},
   "outputs": [
    {
     "data": {
      "application/vnd.microsoft.datawrangler.viewer.v0+json": {
       "columns": [
        {
         "name": "index",
         "rawType": "int64",
         "type": "integer"
        },
        {
         "name": "gmap_location",
         "rawType": "object",
         "type": "string"
        },
        {
         "name": "location_id",
         "rawType": "object",
         "type": "string"
        },
        {
         "name": "user_name",
         "rawType": "object",
         "type": "string"
        },
        {
         "name": "user_id",
         "rawType": "object",
         "type": "string"
        },
        {
         "name": "review_id",
         "rawType": "object",
         "type": "string"
        },
        {
         "name": "score",
         "rawType": "int64",
         "type": "integer"
        },
        {
         "name": "date",
         "rawType": "object",
         "type": "string"
        },
        {
         "name": "comments",
         "rawType": "object",
         "type": "string"
        },
        {
         "name": "language",
         "rawType": "object",
         "type": "string"
        },
        {
         "name": "translated_comments",
         "rawType": "object",
         "type": "unknown"
        },
        {
         "name": "user_page",
         "rawType": "object",
         "type": "string"
        },
        {
         "name": "_merge",
         "rawType": "object",
         "type": "string"
        }
       ],
       "conversionMethod": "pd.DataFrame",
       "ref": "82bd21f5-2bfc-4630-831b-376cb45db3a2",
       "rows": [
        [
         "0",
         "白楊步道水簾洞",
         "0x346885034084ae89:0x59a8b1eac5731c29",
         "泰瑞2 T",
         "117505551147276230070",
         "ChZDSUhNMG9nS0VJQ0FnTURBM3RueUd3EAE",
         "3",
         "2025-02-09",
         "在0403的地震就崩壞了，過不去了",
         "zh-Hant",
         null,
         "https://www.google.com/maps/contrib/117505551147276230070/reviews?hl=zh-TW",
         "both"
        ],
        [
         "1",
         "白楊步道水簾洞",
         "0x346885034084ae89:0x59a8b1eac5731c29",
         "李競哲",
         "118024309789121431912",
         "ChZDSUhNMG9nS0VJQ0FnSURQbDdIOWZREAE",
         "1",
         "2024-12-06",
         "給一日遊，請先做功課喔，\n113/12/5天氣晴，查網路：蘇花，中橫順暢，\n想著沿途，中橫施工頂多1小時開放一次，於是由台北雪隧，下國五蘇澳，再行經蘇花改，帶著家人，來個一日遊，\n蘇澳到花蓮的蘇花改，全部不能通行，沒關係看著蘇花公路美麗的景色也不錯，到了，崇德段，（雙向喔！）開放時間10點12點15點，於是等了1小時20分鐘，繼續前往花蓮，進入太魯閣國家公園，開了半個小時，前無來車，沒人氣，實在真的不好玩，\n想說來個遊車河吧！來去武嶺走走中橫接上新中橫，結果電腦看板顯示，天祥至閣口，雙向開放時間，10點12點15點，\n所以不建議一日遊來遊玩的朋友（當然新城也是不錯的選擇），但是我最終決定，原路折返吧！結果，一整天都在開車",
         "zh-Hant",
         null,
         "https://www.google.com/maps/contrib/118024309789121431912/reviews?hl=zh-TW",
         "both"
        ],
        [
         "2",
         "白楊步道水簾洞",
         "0x346885034084ae89:0x59a8b1eac5731c29",
         "Zero Liu",
         "111532521778163133363",
         "ChZDSUhNMG9nS0VJQ0FnSURINzR1MUN3EAE",
         "5",
         "2024-09-21",
         "太魯閣水簾洞：大自然鬼斧神工的傑作\n太魯閣，這片鬼斧神工的峽谷，處處是令人驚嘆的自然景觀。其中，白楊步道上的水簾洞更是獨樹一格，吸引無數遊客慕名而來。\n\n走進白楊步道，穿梭於幽暗的隧道，耳畔響起潺潺流水聲，空氣中瀰漫著清新的濕氣。步道兩旁的岩壁上，佈滿了綠意盎然的植物，為這片蒼勁的峽谷增添了一抹生機。\n\n循著步道前行，眼前豁然開朗，水簾洞就在不遠處。洞口狹窄，水流從洞頂傾瀉而下，形成一道壯觀的水簾。水珠飛濺，彩虹若隱若現，彷彿仙境一般。\n\n踏入洞中，一股清涼沁人心脾。水流從頭頂傾瀉而下，將遊客團團包圍，彷彿置身於一個天然的SPA館。洞內光線昏暗，濕滑的石頭上長滿了青苔，更增添了一絲神秘感。\n\n水簾洞的形成，是自然界鬼斧神工的傑作。地殼的抬升、河水的侵蝕，造就了這獨特的洞穴景觀。站在洞中，感受著大自然的力量，不禁讓人心生敬畏。\n\n離開水簾洞，繼續沿著步道前行，沿途的風景更是令人目不暇接。白楊吊橋橫跨於峽谷之上，站在橋上，可以俯瞰整個峽谷，感受大自然的壯麗。\n\n太魯閣的水簾洞，不僅僅是一處觀光景點，更是一個讓人身心放鬆的地方。在這裏，你可以遠離城市的喧囂，感受大自然的鬼斧神工。\n\n目前已經因天災關係而無法前往了.\n如果有緣再開放,給各位小提醒：\n\n交通： 可搭乘台灣好行太魯閣線至天祥站，再步行前往白楊步道。\n裝備： 建議穿著防滑的鞋子，並攜帶雨具雨衣，以防被水淋濕。\n安全第一： 步道部分路段較為濕滑，行走時請注意安全。",
         "zh-Hant",
         null,
         "https://www.google.com/maps/contrib/111532521778163133363/reviews?hl=zh-TW",
         "both"
        ],
        [
         "3",
         "白楊步道水簾洞",
         "0x346885034084ae89:0x59a8b1eac5731c29",
         "吳樂樂",
         "114591692869009928773",
         "ChdDSUhNMG9nS0VJQ0FnSURIdV9pYnFBRRAB",
         "5",
         "2024-09-20",
         "2022/9 第一次走時 眼前景是真的震撼",
         "zh-Hant",
         null,
         "https://www.google.com/maps/contrib/114591692869009928773/reviews?hl=zh-TW",
         "both"
        ],
        [
         "4",
         "白楊步道水簾洞",
         "0x346885034084ae89:0x59a8b1eac5731c29",
         "PJ walker",
         "110179552663571999082",
         "ChZDSUhNMG9nS0VJQ0FnSURIanJHb2ZnEAE",
         "5",
         "2024-09-15",
         "2024/3/22\n太魯閣最喜歡的步道，本身很喜歡瀑布跟險峻的山，這裡剛好綜合了我的喜好。\n希望未來這個景色還能有機會體驗！",
         "zh-Hant",
         null,
         "https://www.google.com/maps/contrib/110179552663571999082/reviews?hl=zh-TW",
         "both"
        ]
       ],
       "shape": {
        "columns": 12,
        "rows": 5
       }
      },
      "text/html": [
       "<div>\n",
       "<style scoped>\n",
       "    .dataframe tbody tr th:only-of-type {\n",
       "        vertical-align: middle;\n",
       "    }\n",
       "\n",
       "    .dataframe tbody tr th {\n",
       "        vertical-align: top;\n",
       "    }\n",
       "\n",
       "    .dataframe thead th {\n",
       "        text-align: right;\n",
       "    }\n",
       "</style>\n",
       "<table border=\"1\" class=\"dataframe\">\n",
       "  <thead>\n",
       "    <tr style=\"text-align: right;\">\n",
       "      <th></th>\n",
       "      <th>gmap_location</th>\n",
       "      <th>location_id</th>\n",
       "      <th>user_name</th>\n",
       "      <th>user_id</th>\n",
       "      <th>review_id</th>\n",
       "      <th>score</th>\n",
       "      <th>date</th>\n",
       "      <th>comments</th>\n",
       "      <th>language</th>\n",
       "      <th>translated_comments</th>\n",
       "      <th>user_page</th>\n",
       "      <th>_merge</th>\n",
       "    </tr>\n",
       "  </thead>\n",
       "  <tbody>\n",
       "    <tr>\n",
       "      <th>0</th>\n",
       "      <td>白楊步道水簾洞</td>\n",
       "      <td>0x346885034084ae89:0x59a8b1eac5731c29</td>\n",
       "      <td>泰瑞2 T</td>\n",
       "      <td>117505551147276230070</td>\n",
       "      <td>ChZDSUhNMG9nS0VJQ0FnTURBM3RueUd3EAE</td>\n",
       "      <td>3</td>\n",
       "      <td>2025-02-09</td>\n",
       "      <td>在0403的地震就崩壞了，過不去了</td>\n",
       "      <td>zh-Hant</td>\n",
       "      <td>NaN</td>\n",
       "      <td>https://www.google.com/maps/contrib/1175055511...</td>\n",
       "      <td>both</td>\n",
       "    </tr>\n",
       "    <tr>\n",
       "      <th>1</th>\n",
       "      <td>白楊步道水簾洞</td>\n",
       "      <td>0x346885034084ae89:0x59a8b1eac5731c29</td>\n",
       "      <td>李競哲</td>\n",
       "      <td>118024309789121431912</td>\n",
       "      <td>ChZDSUhNMG9nS0VJQ0FnSURQbDdIOWZREAE</td>\n",
       "      <td>1</td>\n",
       "      <td>2024-12-06</td>\n",
       "      <td>給一日遊，請先做功課喔，\\n113/12/5天氣晴，查網路：蘇花，中橫順暢，\\n想著沿途，中...</td>\n",
       "      <td>zh-Hant</td>\n",
       "      <td>NaN</td>\n",
       "      <td>https://www.google.com/maps/contrib/1180243097...</td>\n",
       "      <td>both</td>\n",
       "    </tr>\n",
       "    <tr>\n",
       "      <th>2</th>\n",
       "      <td>白楊步道水簾洞</td>\n",
       "      <td>0x346885034084ae89:0x59a8b1eac5731c29</td>\n",
       "      <td>Zero Liu</td>\n",
       "      <td>111532521778163133363</td>\n",
       "      <td>ChZDSUhNMG9nS0VJQ0FnSURINzR1MUN3EAE</td>\n",
       "      <td>5</td>\n",
       "      <td>2024-09-21</td>\n",
       "      <td>太魯閣水簾洞：大自然鬼斧神工的傑作\\n太魯閣，這片鬼斧神工的峽谷，處處是令人驚嘆的自然景觀。...</td>\n",
       "      <td>zh-Hant</td>\n",
       "      <td>NaN</td>\n",
       "      <td>https://www.google.com/maps/contrib/1115325217...</td>\n",
       "      <td>both</td>\n",
       "    </tr>\n",
       "    <tr>\n",
       "      <th>3</th>\n",
       "      <td>白楊步道水簾洞</td>\n",
       "      <td>0x346885034084ae89:0x59a8b1eac5731c29</td>\n",
       "      <td>吳樂樂</td>\n",
       "      <td>114591692869009928773</td>\n",
       "      <td>ChdDSUhNMG9nS0VJQ0FnSURIdV9pYnFBRRAB</td>\n",
       "      <td>5</td>\n",
       "      <td>2024-09-20</td>\n",
       "      <td>2022/9 第一次走時 眼前景是真的震撼</td>\n",
       "      <td>zh-Hant</td>\n",
       "      <td>NaN</td>\n",
       "      <td>https://www.google.com/maps/contrib/1145916928...</td>\n",
       "      <td>both</td>\n",
       "    </tr>\n",
       "    <tr>\n",
       "      <th>4</th>\n",
       "      <td>白楊步道水簾洞</td>\n",
       "      <td>0x346885034084ae89:0x59a8b1eac5731c29</td>\n",
       "      <td>PJ walker</td>\n",
       "      <td>110179552663571999082</td>\n",
       "      <td>ChZDSUhNMG9nS0VJQ0FnSURIanJHb2ZnEAE</td>\n",
       "      <td>5</td>\n",
       "      <td>2024-09-15</td>\n",
       "      <td>2024/3/22\\n太魯閣最喜歡的步道，本身很喜歡瀑布跟險峻的山，這裡剛好綜合了我的喜好。...</td>\n",
       "      <td>zh-Hant</td>\n",
       "      <td>NaN</td>\n",
       "      <td>https://www.google.com/maps/contrib/1101795526...</td>\n",
       "      <td>both</td>\n",
       "    </tr>\n",
       "  </tbody>\n",
       "</table>\n",
       "</div>"
      ],
      "text/plain": [
       "  gmap_location                            location_id  user_name  \\\n",
       "0       白楊步道水簾洞  0x346885034084ae89:0x59a8b1eac5731c29      泰瑞2 T   \n",
       "1       白楊步道水簾洞  0x346885034084ae89:0x59a8b1eac5731c29        李競哲   \n",
       "2       白楊步道水簾洞  0x346885034084ae89:0x59a8b1eac5731c29   Zero Liu   \n",
       "3       白楊步道水簾洞  0x346885034084ae89:0x59a8b1eac5731c29        吳樂樂   \n",
       "4       白楊步道水簾洞  0x346885034084ae89:0x59a8b1eac5731c29  PJ walker   \n",
       "\n",
       "                 user_id                             review_id  score  \\\n",
       "0  117505551147276230070   ChZDSUhNMG9nS0VJQ0FnTURBM3RueUd3EAE      3   \n",
       "1  118024309789121431912   ChZDSUhNMG9nS0VJQ0FnSURQbDdIOWZREAE      1   \n",
       "2  111532521778163133363   ChZDSUhNMG9nS0VJQ0FnSURINzR1MUN3EAE      5   \n",
       "3  114591692869009928773  ChdDSUhNMG9nS0VJQ0FnSURIdV9pYnFBRRAB      5   \n",
       "4  110179552663571999082   ChZDSUhNMG9nS0VJQ0FnSURIanJHb2ZnEAE      5   \n",
       "\n",
       "         date                                           comments language  \\\n",
       "0  2025-02-09                                  在0403的地震就崩壞了，過不去了  zh-Hant   \n",
       "1  2024-12-06  給一日遊，請先做功課喔，\\n113/12/5天氣晴，查網路：蘇花，中橫順暢，\\n想著沿途，中...  zh-Hant   \n",
       "2  2024-09-21  太魯閣水簾洞：大自然鬼斧神工的傑作\\n太魯閣，這片鬼斧神工的峽谷，處處是令人驚嘆的自然景觀。...  zh-Hant   \n",
       "3  2024-09-20                              2022/9 第一次走時 眼前景是真的震撼  zh-Hant   \n",
       "4  2024-09-15  2024/3/22\\n太魯閣最喜歡的步道，本身很喜歡瀑布跟險峻的山，這裡剛好綜合了我的喜好。...  zh-Hant   \n",
       "\n",
       "  translated_comments                                          user_page  \\\n",
       "0                 NaN  https://www.google.com/maps/contrib/1175055511...   \n",
       "1                 NaN  https://www.google.com/maps/contrib/1180243097...   \n",
       "2                 NaN  https://www.google.com/maps/contrib/1115325217...   \n",
       "3                 NaN  https://www.google.com/maps/contrib/1145916928...   \n",
       "4                 NaN  https://www.google.com/maps/contrib/1101795526...   \n",
       "\n",
       "  _merge  \n",
       "0   both  \n",
       "1   both  \n",
       "2   both  \n",
       "3   both  \n",
       "4   both  "
      ]
     },
     "execution_count": 11,
     "metadata": {},
     "output_type": "execute_result"
    }
   ],
   "source": [
    "# 檢視評論總表\n",
    "comment_838 = pd.read_csv('../data/838-所有評論原始資料.csv')\n",
    "comment_838.head()"
   ]
  },
  {
   "cell_type": "code",
   "execution_count": 12,
   "metadata": {},
   "outputs": [
    {
     "data": {
      "application/vnd.microsoft.datawrangler.viewer.v0+json": {
       "columns": [
        {
         "name": "index",
         "rawType": "int64",
         "type": "integer"
        },
        {
         "name": "location_id",
         "rawType": "object",
         "type": "string"
        },
        {
         "name": "review_id",
         "rawType": "object",
         "type": "string"
        },
        {
         "name": "score",
         "rawType": "int64",
         "type": "integer"
        },
        {
         "name": "date",
         "rawType": "object",
         "type": "string"
        }
       ],
       "conversionMethod": "pd.DataFrame",
       "ref": "6655d523-66b3-4d2b-8b94-bf40ce25e93d",
       "rows": [
        [
         "0",
         "0x346885034084ae89:0x59a8b1eac5731c29",
         "ChZDSUhNMG9nS0VJQ0FnTURBM3RueUd3EAE",
         "3",
         "2025-02-09"
        ],
        [
         "1",
         "0x346885034084ae89:0x59a8b1eac5731c29",
         "ChZDSUhNMG9nS0VJQ0FnSURQbDdIOWZREAE",
         "1",
         "2024-12-06"
        ],
        [
         "2",
         "0x346885034084ae89:0x59a8b1eac5731c29",
         "ChZDSUhNMG9nS0VJQ0FnSURINzR1MUN3EAE",
         "5",
         "2024-09-21"
        ],
        [
         "3",
         "0x346885034084ae89:0x59a8b1eac5731c29",
         "ChdDSUhNMG9nS0VJQ0FnSURIdV9pYnFBRRAB",
         "5",
         "2024-09-20"
        ],
        [
         "4",
         "0x346885034084ae89:0x59a8b1eac5731c29",
         "ChZDSUhNMG9nS0VJQ0FnSURIanJHb2ZnEAE",
         "5",
         "2024-09-15"
        ]
       ],
       "shape": {
        "columns": 4,
        "rows": 5
       }
      },
      "text/html": [
       "<div>\n",
       "<style scoped>\n",
       "    .dataframe tbody tr th:only-of-type {\n",
       "        vertical-align: middle;\n",
       "    }\n",
       "\n",
       "    .dataframe tbody tr th {\n",
       "        vertical-align: top;\n",
       "    }\n",
       "\n",
       "    .dataframe thead th {\n",
       "        text-align: right;\n",
       "    }\n",
       "</style>\n",
       "<table border=\"1\" class=\"dataframe\">\n",
       "  <thead>\n",
       "    <tr style=\"text-align: right;\">\n",
       "      <th></th>\n",
       "      <th>location_id</th>\n",
       "      <th>review_id</th>\n",
       "      <th>score</th>\n",
       "      <th>date</th>\n",
       "    </tr>\n",
       "  </thead>\n",
       "  <tbody>\n",
       "    <tr>\n",
       "      <th>0</th>\n",
       "      <td>0x346885034084ae89:0x59a8b1eac5731c29</td>\n",
       "      <td>ChZDSUhNMG9nS0VJQ0FnTURBM3RueUd3EAE</td>\n",
       "      <td>3</td>\n",
       "      <td>2025-02-09</td>\n",
       "    </tr>\n",
       "    <tr>\n",
       "      <th>1</th>\n",
       "      <td>0x346885034084ae89:0x59a8b1eac5731c29</td>\n",
       "      <td>ChZDSUhNMG9nS0VJQ0FnSURQbDdIOWZREAE</td>\n",
       "      <td>1</td>\n",
       "      <td>2024-12-06</td>\n",
       "    </tr>\n",
       "    <tr>\n",
       "      <th>2</th>\n",
       "      <td>0x346885034084ae89:0x59a8b1eac5731c29</td>\n",
       "      <td>ChZDSUhNMG9nS0VJQ0FnSURINzR1MUN3EAE</td>\n",
       "      <td>5</td>\n",
       "      <td>2024-09-21</td>\n",
       "    </tr>\n",
       "    <tr>\n",
       "      <th>3</th>\n",
       "      <td>0x346885034084ae89:0x59a8b1eac5731c29</td>\n",
       "      <td>ChdDSUhNMG9nS0VJQ0FnSURIdV9pYnFBRRAB</td>\n",
       "      <td>5</td>\n",
       "      <td>2024-09-20</td>\n",
       "    </tr>\n",
       "    <tr>\n",
       "      <th>4</th>\n",
       "      <td>0x346885034084ae89:0x59a8b1eac5731c29</td>\n",
       "      <td>ChZDSUhNMG9nS0VJQ0FnSURIanJHb2ZnEAE</td>\n",
       "      <td>5</td>\n",
       "      <td>2024-09-15</td>\n",
       "    </tr>\n",
       "  </tbody>\n",
       "</table>\n",
       "</div>"
      ],
      "text/plain": [
       "                             location_id  \\\n",
       "0  0x346885034084ae89:0x59a8b1eac5731c29   \n",
       "1  0x346885034084ae89:0x59a8b1eac5731c29   \n",
       "2  0x346885034084ae89:0x59a8b1eac5731c29   \n",
       "3  0x346885034084ae89:0x59a8b1eac5731c29   \n",
       "4  0x346885034084ae89:0x59a8b1eac5731c29   \n",
       "\n",
       "                              review_id  score        date  \n",
       "0   ChZDSUhNMG9nS0VJQ0FnTURBM3RueUd3EAE      3  2025-02-09  \n",
       "1   ChZDSUhNMG9nS0VJQ0FnSURQbDdIOWZREAE      1  2024-12-06  \n",
       "2   ChZDSUhNMG9nS0VJQ0FnSURINzR1MUN3EAE      5  2024-09-21  \n",
       "3  ChdDSUhNMG9nS0VJQ0FnSURIdV9pYnFBRRAB      5  2024-09-20  \n",
       "4   ChZDSUhNMG9nS0VJQ0FnSURIanJHb2ZnEAE      5  2024-09-15  "
      ]
     },
     "execution_count": 12,
     "metadata": {},
     "output_type": "execute_result"
    }
   ],
   "source": [
    "# 取出地點id gmap名稱 地點分類\n",
    "new_rating_838 = comment_838[['location_id', 'review_id', 'score', 'date']]\n",
    "new_rating_838.head()"
   ]
  },
  {
   "cell_type": "code",
   "execution_count": 13,
   "metadata": {},
   "outputs": [
    {
     "data": {
      "application/vnd.microsoft.datawrangler.viewer.v0+json": {
       "columns": [
        {
         "name": "index",
         "rawType": "int64",
         "type": "integer"
        },
        {
         "name": "location_id",
         "rawType": "object",
         "type": "string"
        },
        {
         "name": "gmap_location",
         "rawType": "object",
         "type": "string"
        },
        {
         "name": "attraction_type",
         "rawType": "object",
         "type": "string"
        },
        {
         "name": "address",
         "rawType": "object",
         "type": "string"
        },
        {
         "name": "review_id",
         "rawType": "object",
         "type": "string"
        },
        {
         "name": "score",
         "rawType": "int64",
         "type": "integer"
        },
        {
         "name": "date",
         "rawType": "object",
         "type": "string"
        }
       ],
       "conversionMethod": "pd.DataFrame",
       "ref": "88fa07a5-4bc5-4ffd-b043-6ee4d7846a53",
       "rows": [
        [
         "0",
         "0x346885034084ae89:0x59a8b1eac5731c29",
         "白楊步道水簾洞",
         "自然景觀與戶外",
         "花蓮縣",
         "ChZDSUhNMG9nS0VJQ0FnTURBM3RueUd3EAE",
         "3",
         "2025-02-09"
        ],
        [
         "1",
         "0x346885034084ae89:0x59a8b1eac5731c29",
         "白楊步道水簾洞",
         "自然景觀與戶外",
         "花蓮縣",
         "ChZDSUhNMG9nS0VJQ0FnSURQbDdIOWZREAE",
         "1",
         "2024-12-06"
        ],
        [
         "2",
         "0x346885034084ae89:0x59a8b1eac5731c29",
         "白楊步道水簾洞",
         "自然景觀與戶外",
         "花蓮縣",
         "ChZDSUhNMG9nS0VJQ0FnSURINzR1MUN3EAE",
         "5",
         "2024-09-21"
        ],
        [
         "3",
         "0x346885034084ae89:0x59a8b1eac5731c29",
         "白楊步道水簾洞",
         "自然景觀與戶外",
         "花蓮縣",
         "ChdDSUhNMG9nS0VJQ0FnSURIdV9pYnFBRRAB",
         "5",
         "2024-09-20"
        ],
        [
         "4",
         "0x346885034084ae89:0x59a8b1eac5731c29",
         "白楊步道水簾洞",
         "自然景觀與戶外",
         "花蓮縣",
         "ChZDSUhNMG9nS0VJQ0FnSURIanJHb2ZnEAE",
         "5",
         "2024-09-15"
        ]
       ],
       "shape": {
        "columns": 7,
        "rows": 5
       }
      },
      "text/html": [
       "<div>\n",
       "<style scoped>\n",
       "    .dataframe tbody tr th:only-of-type {\n",
       "        vertical-align: middle;\n",
       "    }\n",
       "\n",
       "    .dataframe tbody tr th {\n",
       "        vertical-align: top;\n",
       "    }\n",
       "\n",
       "    .dataframe thead th {\n",
       "        text-align: right;\n",
       "    }\n",
       "</style>\n",
       "<table border=\"1\" class=\"dataframe\">\n",
       "  <thead>\n",
       "    <tr style=\"text-align: right;\">\n",
       "      <th></th>\n",
       "      <th>location_id</th>\n",
       "      <th>gmap_location</th>\n",
       "      <th>attraction_type</th>\n",
       "      <th>address</th>\n",
       "      <th>review_id</th>\n",
       "      <th>score</th>\n",
       "      <th>date</th>\n",
       "    </tr>\n",
       "  </thead>\n",
       "  <tbody>\n",
       "    <tr>\n",
       "      <th>0</th>\n",
       "      <td>0x346885034084ae89:0x59a8b1eac5731c29</td>\n",
       "      <td>白楊步道水簾洞</td>\n",
       "      <td>自然景觀與戶外</td>\n",
       "      <td>花蓮縣</td>\n",
       "      <td>ChZDSUhNMG9nS0VJQ0FnTURBM3RueUd3EAE</td>\n",
       "      <td>3</td>\n",
       "      <td>2025-02-09</td>\n",
       "    </tr>\n",
       "    <tr>\n",
       "      <th>1</th>\n",
       "      <td>0x346885034084ae89:0x59a8b1eac5731c29</td>\n",
       "      <td>白楊步道水簾洞</td>\n",
       "      <td>自然景觀與戶外</td>\n",
       "      <td>花蓮縣</td>\n",
       "      <td>ChZDSUhNMG9nS0VJQ0FnSURQbDdIOWZREAE</td>\n",
       "      <td>1</td>\n",
       "      <td>2024-12-06</td>\n",
       "    </tr>\n",
       "    <tr>\n",
       "      <th>2</th>\n",
       "      <td>0x346885034084ae89:0x59a8b1eac5731c29</td>\n",
       "      <td>白楊步道水簾洞</td>\n",
       "      <td>自然景觀與戶外</td>\n",
       "      <td>花蓮縣</td>\n",
       "      <td>ChZDSUhNMG9nS0VJQ0FnSURINzR1MUN3EAE</td>\n",
       "      <td>5</td>\n",
       "      <td>2024-09-21</td>\n",
       "    </tr>\n",
       "    <tr>\n",
       "      <th>3</th>\n",
       "      <td>0x346885034084ae89:0x59a8b1eac5731c29</td>\n",
       "      <td>白楊步道水簾洞</td>\n",
       "      <td>自然景觀與戶外</td>\n",
       "      <td>花蓮縣</td>\n",
       "      <td>ChdDSUhNMG9nS0VJQ0FnSURIdV9pYnFBRRAB</td>\n",
       "      <td>5</td>\n",
       "      <td>2024-09-20</td>\n",
       "    </tr>\n",
       "    <tr>\n",
       "      <th>4</th>\n",
       "      <td>0x346885034084ae89:0x59a8b1eac5731c29</td>\n",
       "      <td>白楊步道水簾洞</td>\n",
       "      <td>自然景觀與戶外</td>\n",
       "      <td>花蓮縣</td>\n",
       "      <td>ChZDSUhNMG9nS0VJQ0FnSURIanJHb2ZnEAE</td>\n",
       "      <td>5</td>\n",
       "      <td>2024-09-15</td>\n",
       "    </tr>\n",
       "  </tbody>\n",
       "</table>\n",
       "</div>"
      ],
      "text/plain": [
       "                             location_id gmap_location attraction_type  \\\n",
       "0  0x346885034084ae89:0x59a8b1eac5731c29       白楊步道水簾洞         自然景觀與戶外   \n",
       "1  0x346885034084ae89:0x59a8b1eac5731c29       白楊步道水簾洞         自然景觀與戶外   \n",
       "2  0x346885034084ae89:0x59a8b1eac5731c29       白楊步道水簾洞         自然景觀與戶外   \n",
       "3  0x346885034084ae89:0x59a8b1eac5731c29       白楊步道水簾洞         自然景觀與戶外   \n",
       "4  0x346885034084ae89:0x59a8b1eac5731c29       白楊步道水簾洞         自然景觀與戶外   \n",
       "\n",
       "  address                             review_id  score        date  \n",
       "0     花蓮縣   ChZDSUhNMG9nS0VJQ0FnTURBM3RueUd3EAE      3  2025-02-09  \n",
       "1     花蓮縣   ChZDSUhNMG9nS0VJQ0FnSURQbDdIOWZREAE      1  2024-12-06  \n",
       "2     花蓮縣   ChZDSUhNMG9nS0VJQ0FnSURINzR1MUN3EAE      5  2024-09-21  \n",
       "3     花蓮縣  ChdDSUhNMG9nS0VJQ0FnSURIdV9pYnFBRRAB      5  2024-09-20  \n",
       "4     花蓮縣   ChZDSUhNMG9nS0VJQ0FnSURIanJHb2ZnEAE      5  2024-09-15  "
      ]
     },
     "execution_count": 13,
     "metadata": {},
     "output_type": "execute_result"
    }
   ],
   "source": [
    "# 與基本資料表合併\n",
    "new_basic_info_rating_838 = pd.merge(new_basic_info_838, new_rating_838)\n",
    "\n",
    "new_basic_info_rating_838.head()"
   ]
  },
  {
   "cell_type": "code",
   "execution_count": 14,
   "metadata": {},
   "outputs": [
    {
     "data": {
      "application/vnd.microsoft.datawrangler.viewer.v0+json": {
       "columns": [
        {
         "name": "index",
         "rawType": "int64",
         "type": "integer"
        },
        {
         "name": "review_id",
         "rawType": "object",
         "type": "string"
        },
        {
         "name": "langTag",
         "rawType": "object",
         "type": "string"
        },
        {
         "name": "zhTW_comments",
         "rawType": "object",
         "type": "string"
        },
        {
         "name": "zhTW_tokens",
         "rawType": "object",
         "type": "string"
        },
        {
         "name": "snownlp_scores",
         "rawType": "float64",
         "type": "float"
        },
        {
         "name": "snownlp_scores_0-100",
         "rawType": "float64",
         "type": "float"
        }
       ],
       "conversionMethod": "pd.DataFrame",
       "ref": "f095ec5e-1d8e-4b24-a1f0-329c201e49f7",
       "rows": [
        [
         "0",
         "ChZDSUhNMG9nS0VJQ0FnTURBM3RueUd3EAE",
         "zh-Hant",
         "在0403的地震就崩壞了，過不去了",
         "在 0403 的 地震 就 崩壞 了 ， 過不去 了",
         "0.2816184458278692",
         "28.0"
        ],
        [
         "1",
         "ChZDSUhNMG9nS0VJQ0FnSURQbDdIOWZREAE",
         "zh-Hant",
         "給一日遊，請先做功課喔，\n113/12/5天氣晴，查網路：蘇花，中橫順暢，\n想著沿途，中橫施工頂多1小時開放一次，於是由臺北雪隧，下國五蘇澳，再行經蘇花改，帶著家人，來個一日遊，\n蘇澳到花蓮的蘇花改，全部不能通行，沒關係看著蘇花公路美麗的景色也不錯，到了，崇德段，（雙向喔！）開放時間10點12點15點，於是等了1小時20分鐘，繼續前往花蓮，進入太魯閣國家公園，開了半個小時，前無來車，沒人氣，實在真的不好玩，\n想說來個遊車河吧！來去武嶺走走中橫接上新中橫，結果電腦看板顯示，天祥至閣口，雙向開放時間，10點12點15點，\n所以不建議一日遊來遊玩的朋友（當然新城也是不錯的選擇），但是我最終決定，原路折返吧！結果，一整天都在開車",
         "給 一日 遊 ， 請 先 做功 課 喔 ， \n 113 / 12 / 5 天氣 晴 ， 查網 路 ： 蘇花 ， 中橫 順暢 ， \n 想著 沿途 ， 中橫 施工 頂多 1 小時 開放 一次 ， 於 是 由 臺 北雪 隧 ， 下國 五蘇澳 ， 再行 經蘇花 改 ， 帶著 家人 ， 來個 一日 遊 ， \n 蘇澳到 花蓮 的 蘇花 改 ， 全部 不能 通行 ， 沒關 係 看 著 蘇花 公路 美麗 的 景色 也 不錯 ， 到 了 ， 崇德 段 ， （ 雙向 喔 ！ ） 開放 時間 10 點 12 點 15 點 ， 於 是 等 了 1 小時 20 分鐘 ， 繼續 前往 花蓮 ， 進入 太魯閣 國家 公園 ， 開 了 半個 小時 ， 前無來車 ， 沒人氣 ， 實在 真的 不好玩 ， \n 想 說 來 個 遊車 河 吧 ！ 來 去 武嶺 走走 中橫 接上 新中橫 ， 結果 電腦 看板 顯示 ， 天祥至 閣口 ， 雙向 開放 時間 ， 10 點 12 點 15 點 ， \n 所以 不建議 一日 遊來 遊玩 的 朋友 （ 當然 新城 也 是 不錯 的 選擇 ） ， 但是 我 最終 決定 ， 原 路 折返 吧 ！ 結果 ， 一整天 都 在 開車",
         "8.863743183873396e-09",
         "0.0"
        ],
        [
         "2",
         "ChZDSUhNMG9nS0VJQ0FnSURINzR1MUN3EAE",
         "zh-Hant",
         "太魯閣水簾洞：大自然鬼斧神工的傑作\n太魯閣，這片鬼斧神工的峽谷，處處是令人驚嘆的自然景觀。其中，白楊步道上的水簾洞更是獨樹一格，吸引無數遊客慕名而來。\n\n走進白楊步道，穿梭於幽暗的隧道，耳畔響起潺潺流水聲，空氣中瀰漫著清新的濕氣。步道兩旁的巖壁上，佈滿了綠意盎然的植物，為這片蒼勁的峽谷增添了一抹生機。\n\n循著步道前行，眼前豁然開朗，水簾洞就在不遠處。洞口狹窄，水流從洞頂傾瀉而下，形成一道壯觀的水簾。水珠飛濺，彩虹若隱若現，彷彿仙境一般。\n\n踏入洞中，一股清涼沁人心脾。水流從頭頂傾瀉而下，將遊客團團包圍，彷彿置身於一個天然的SPA館。洞內光線昏暗，濕滑的石頭上長滿了青苔，更增添了一絲神秘感。\n\n水簾洞的形成，是自然界鬼斧神工的傑作。地殼的抬升、河水的侵蝕，造就了這獨特的洞穴景觀。站在洞中，感受著大自然的力量，不禁讓人心生敬畏。\n\n離開水簾洞，繼續沿著步道前行，沿途的風景更是令人目不暇接。白楊吊橋橫跨於峽谷之上，站在橋上，可以俯瞰整個峽谷，感受大自然的壯麗。\n\n太魯閣的水簾洞，不僅僅是一處觀光景點，更是一個讓人身心放鬆的地方。在這裡，你可以遠離城市的喧囂，感受大自然的鬼斧神工。\n\n目前已經因天災關係而無法前往了.\n如果有緣再開放,給各位小提醒：\n\n交通： 可搭乘臺灣好行太魯閣線至天祥站，再步行前往白楊步道。\n裝備： 建議穿著防滑的鞋子，並攜帶雨具雨衣，以防被水淋濕。\n安全第一： 步道部分路段較為濕滑，行走時請注意安全。",
         "太魯閣 水簾洞 ： 大自然 鬼斧神工 的 傑作 \n 太魯閣 ， 這片 鬼斧神工 的 峽谷 ， 處處 是 令人 驚嘆 的 自然 景觀 。 其中 ， 白楊步 道 上 的 水簾洞 更是 獨樹 一格 ， 吸引 無數 遊客 慕名 而來 。 \n \n 走 進白 楊步 道 ， 穿梭 於 幽暗 的 隧道 ， 耳畔 響起 潺潺流水 聲 ， 空氣 中 瀰 漫著 清新 的 濕氣 。 步道 兩旁 的 巖 壁上 ， 佈 滿 了 綠意 盎然 的 植物 ， 為 這片 蒼勁 的 峽谷 增添 了 一抹 生機 。 \n \n 循著步 道 前行 ， 眼前 豁然 開朗 ， 水簾洞 就 在 不遠處 。 洞口 狹窄 ， 水流 從洞 頂 傾瀉 而 下 ， 形成 一道 壯觀 的 水簾 。 水珠 飛濺 ， 彩虹 若 隱若現 ， 彷 彿 仙境 一般 。 \n \n 踏入 洞中 ， 一股 清涼 沁人心脾 。 水流 從頭 頂 傾瀉 而 下 ， 將遊 客團團 包圍 ， 彷 彿 置身 於 一個 天然 的 SPA 館 。 洞內 光線 昏暗 ， 濕滑 的 石頭 上長 滿 了 青苔 ， 更 增添 了 一絲 神秘感 。 \n \n 水簾洞 的 形成 ， 是 自然界 鬼斧神工 的 傑作 。 地殼 的 抬升 、 河水 的 侵蝕 ， 造就 了 這獨特 的 洞穴 景觀 。 站 在 洞 中 ， 感受 著 大自然 的 力量 ， 不禁 讓 人心 生 敬畏 。 \n \n 離開 水簾洞 ， 繼續 沿著步 道 前行 ， 沿途 的 風景 更是 令人 目不暇接 。 白楊 吊橋 橫跨 於 峽谷 之上 ， 站 在 橋上 ， 可以 俯瞰 整個 峽谷 ， 感受 大自然 的 壯麗 。 \n \n 太魯閣 的 水簾洞 ， 不僅僅 是 一處觀 光景 點 ， 更是 一個 讓 人 身心 放 鬆 的 地方 。 在 這裡 ， 你 可以 遠離 城市 的 喧囂 ， 感受 大自然 的 鬼斧神工 。 \n \n 目前 已經 因天 災關 係 而 無法 前往 了 . \n 如果 有緣 再 開放 , 給 各位 小 提醒 ： \n \n 交通 ：   可 搭乘 臺 灣好 行太魯閣 線 至 天祥站 ， 再 步行 前往 白楊步 道 。 \n 裝備 ：   建議 穿著 防滑 的 鞋子 ， 並攜帶 雨具 雨衣 ， 以防 被 水淋濕 。 \n 安全 第一 ：   步 道 部分 路段 較 為 濕滑 ， 行走 時請 注意安全 。",
         "2.96106028585541e-10",
         "0.0"
        ],
        [
         "3",
         "ChdDSUhNMG9nS0VJQ0FnSURIdV9pYnFBRRAB",
         "zh-Hant",
         "2022/9 第一次走時 眼前景是真的震撼",
         "2022 / 9   第一次 走時   眼 前景 是 真的 震撼",
         "0.3326388923112556",
         "33.0"
        ],
        [
         "4",
         "ChZDSUhNMG9nS0VJQ0FnSURIanJHb2ZnEAE",
         "zh-Hant",
         "2024/3/22\n太魯閣最喜歡的步道，本身很喜歡瀑布跟險峻的山，這裡剛好綜合了我的喜好。\n希望未來這個景色還能有機會體驗！",
         "2024 / 3 / 22 \n 太魯閣 最 喜歡 的 步道 ， 本身 很 喜歡 瀑布 跟險峻 的 山 ， 這裡 剛好 綜合 了 我 的 喜好 。 \n 希望 未來 這個 景色 還能 有 機會 體驗 ！",
         "0.163679422450372",
         "16.0"
        ]
       ],
       "shape": {
        "columns": 6,
        "rows": 5
       }
      },
      "text/html": [
       "<div>\n",
       "<style scoped>\n",
       "    .dataframe tbody tr th:only-of-type {\n",
       "        vertical-align: middle;\n",
       "    }\n",
       "\n",
       "    .dataframe tbody tr th {\n",
       "        vertical-align: top;\n",
       "    }\n",
       "\n",
       "    .dataframe thead th {\n",
       "        text-align: right;\n",
       "    }\n",
       "</style>\n",
       "<table border=\"1\" class=\"dataframe\">\n",
       "  <thead>\n",
       "    <tr style=\"text-align: right;\">\n",
       "      <th></th>\n",
       "      <th>review_id</th>\n",
       "      <th>langTag</th>\n",
       "      <th>zhTW_comments</th>\n",
       "      <th>zhTW_tokens</th>\n",
       "      <th>snownlp_scores</th>\n",
       "      <th>snownlp_scores_0-100</th>\n",
       "    </tr>\n",
       "  </thead>\n",
       "  <tbody>\n",
       "    <tr>\n",
       "      <th>0</th>\n",
       "      <td>ChZDSUhNMG9nS0VJQ0FnTURBM3RueUd3EAE</td>\n",
       "      <td>zh-Hant</td>\n",
       "      <td>在0403的地震就崩壞了，過不去了</td>\n",
       "      <td>在 0403 的 地震 就 崩壞 了 ， 過不去 了</td>\n",
       "      <td>2.816184e-01</td>\n",
       "      <td>28.0</td>\n",
       "    </tr>\n",
       "    <tr>\n",
       "      <th>1</th>\n",
       "      <td>ChZDSUhNMG9nS0VJQ0FnSURQbDdIOWZREAE</td>\n",
       "      <td>zh-Hant</td>\n",
       "      <td>給一日遊，請先做功課喔，\\n113/12/5天氣晴，查網路：蘇花，中橫順暢，\\n想著沿途，中...</td>\n",
       "      <td>給 一日 遊 ， 請 先 做功 課 喔 ， \\n 113 / 12 / 5 天氣 晴 ， 查...</td>\n",
       "      <td>8.863743e-09</td>\n",
       "      <td>0.0</td>\n",
       "    </tr>\n",
       "    <tr>\n",
       "      <th>2</th>\n",
       "      <td>ChZDSUhNMG9nS0VJQ0FnSURINzR1MUN3EAE</td>\n",
       "      <td>zh-Hant</td>\n",
       "      <td>太魯閣水簾洞：大自然鬼斧神工的傑作\\n太魯閣，這片鬼斧神工的峽谷，處處是令人驚嘆的自然景觀。...</td>\n",
       "      <td>太魯閣 水簾洞 ： 大自然 鬼斧神工 的 傑作 \\n 太魯閣 ， 這片 鬼斧神工 的 峽谷 ...</td>\n",
       "      <td>2.961060e-10</td>\n",
       "      <td>0.0</td>\n",
       "    </tr>\n",
       "    <tr>\n",
       "      <th>3</th>\n",
       "      <td>ChdDSUhNMG9nS0VJQ0FnSURIdV9pYnFBRRAB</td>\n",
       "      <td>zh-Hant</td>\n",
       "      <td>2022/9 第一次走時 眼前景是真的震撼</td>\n",
       "      <td>2022 / 9   第一次 走時   眼 前景 是 真的 震撼</td>\n",
       "      <td>3.326389e-01</td>\n",
       "      <td>33.0</td>\n",
       "    </tr>\n",
       "    <tr>\n",
       "      <th>4</th>\n",
       "      <td>ChZDSUhNMG9nS0VJQ0FnSURIanJHb2ZnEAE</td>\n",
       "      <td>zh-Hant</td>\n",
       "      <td>2024/3/22\\n太魯閣最喜歡的步道，本身很喜歡瀑布跟險峻的山，這裡剛好綜合了我的喜好。...</td>\n",
       "      <td>2024 / 3 / 22 \\n 太魯閣 最 喜歡 的 步道 ， 本身 很 喜歡 瀑布 跟險...</td>\n",
       "      <td>1.636794e-01</td>\n",
       "      <td>16.0</td>\n",
       "    </tr>\n",
       "  </tbody>\n",
       "</table>\n",
       "</div>"
      ],
      "text/plain": [
       "                              review_id  langTag  \\\n",
       "0   ChZDSUhNMG9nS0VJQ0FnTURBM3RueUd3EAE  zh-Hant   \n",
       "1   ChZDSUhNMG9nS0VJQ0FnSURQbDdIOWZREAE  zh-Hant   \n",
       "2   ChZDSUhNMG9nS0VJQ0FnSURINzR1MUN3EAE  zh-Hant   \n",
       "3  ChdDSUhNMG9nS0VJQ0FnSURIdV9pYnFBRRAB  zh-Hant   \n",
       "4   ChZDSUhNMG9nS0VJQ0FnSURIanJHb2ZnEAE  zh-Hant   \n",
       "\n",
       "                                       zhTW_comments  \\\n",
       "0                                  在0403的地震就崩壞了，過不去了   \n",
       "1  給一日遊，請先做功課喔，\\n113/12/5天氣晴，查網路：蘇花，中橫順暢，\\n想著沿途，中...   \n",
       "2  太魯閣水簾洞：大自然鬼斧神工的傑作\\n太魯閣，這片鬼斧神工的峽谷，處處是令人驚嘆的自然景觀。...   \n",
       "3                              2022/9 第一次走時 眼前景是真的震撼   \n",
       "4  2024/3/22\\n太魯閣最喜歡的步道，本身很喜歡瀑布跟險峻的山，這裡剛好綜合了我的喜好。...   \n",
       "\n",
       "                                         zhTW_tokens  snownlp_scores  \\\n",
       "0                         在 0403 的 地震 就 崩壞 了 ， 過不去 了    2.816184e-01   \n",
       "1  給 一日 遊 ， 請 先 做功 課 喔 ， \\n 113 / 12 / 5 天氣 晴 ， 查...    8.863743e-09   \n",
       "2  太魯閣 水簾洞 ： 大自然 鬼斧神工 的 傑作 \\n 太魯閣 ， 這片 鬼斧神工 的 峽谷 ...    2.961060e-10   \n",
       "3                   2022 / 9   第一次 走時   眼 前景 是 真的 震撼    3.326389e-01   \n",
       "4  2024 / 3 / 22 \\n 太魯閣 最 喜歡 的 步道 ， 本身 很 喜歡 瀑布 跟險...    1.636794e-01   \n",
       "\n",
       "   snownlp_scores_0-100  \n",
       "0                  28.0  \n",
       "1                   0.0  \n",
       "2                   0.0  \n",
       "3                  33.0  \n",
       "4                  16.0  "
      ]
     },
     "execution_count": 14,
     "metadata": {},
     "output_type": "execute_result"
    }
   ],
   "source": [
    "# 讀入情感分數檔案\n",
    "nlp_838 = pd.read_csv('../data/gmap838_nlp.csv')\n",
    "nlp_838.head()"
   ]
  },
  {
   "cell_type": "code",
   "execution_count": 15,
   "metadata": {},
   "outputs": [
    {
     "data": {
      "application/vnd.microsoft.datawrangler.viewer.v0+json": {
       "columns": [
        {
         "name": "index",
         "rawType": "int64",
         "type": "integer"
        },
        {
         "name": "review_id",
         "rawType": "object",
         "type": "string"
        },
        {
         "name": "langTag",
         "rawType": "object",
         "type": "unknown"
        },
        {
         "name": "snownlp_scores_0-100",
         "rawType": "float64",
         "type": "float"
        }
       ],
       "conversionMethod": "pd.DataFrame",
       "ref": "39e3018e-56e5-45ce-b1df-fec74f98eb58",
       "rows": [
        [
         "0",
         "ChZDSUhNMG9nS0VJQ0FnTURBM3RueUd3EAE",
         "zh-Hant",
         "28.0"
        ],
        [
         "1",
         "ChZDSUhNMG9nS0VJQ0FnSURQbDdIOWZREAE",
         "zh-Hant",
         "0.0"
        ],
        [
         "2",
         "ChZDSUhNMG9nS0VJQ0FnSURINzR1MUN3EAE",
         "zh-Hant",
         "0.0"
        ],
        [
         "3",
         "ChdDSUhNMG9nS0VJQ0FnSURIdV9pYnFBRRAB",
         "zh-Hant",
         "33.0"
        ],
        [
         "4",
         "ChZDSUhNMG9nS0VJQ0FnSURIanJHb2ZnEAE",
         "zh-Hant",
         "16.0"
        ],
        [
         "5",
         "ChdDSUhNMG9nS0VJQ0FnSURiX1BIT3d3RRAB",
         "zh-Hant",
         "80.0"
        ],
        [
         "6",
         "ChZDSUhNMG9nS0VJQ0FnSURycVltLUlREAE",
         "en",
         "100.0"
        ],
        [
         "7",
         "ChZDSUhNMG9nS0VJQ0FnSUREczdYYUxREAE",
         "zh-Hant",
         "52.0"
        ],
        [
         "8",
         "ChZDSUhNMG9nS0VJQ0FnSUREeGNyamN3EAE",
         "zh-Hant",
         "4.0"
        ],
        [
         "9",
         "ChZDSUhNMG9nS0VJQ0FnSUREOGNfd2ZREAE",
         "zh-Hant",
         "67.0"
        ],
        [
         "10",
         "ChdDSUhNMG9nS0VJQ0FnSUREenEtRzdRRRAB",
         "zh-Hant",
         "99.0"
        ],
        [
         "11",
         "ChdDSUhNMG9nS0VJQ0FnSUREbHFuN2dRRRAB",
         "zh-Hant",
         "0.0"
        ],
        [
         "12",
         "ChZDSUhNMG9nS0VJQ0FnSUREck91TlV3EAE",
         "zh-Hant",
         "36.0"
        ],
        [
         "13",
         "ChZDSUhNMG9nS0VJQ0FnSUNkMnJMSFFBEAE",
         "zh-Hant",
         "2.0"
        ],
        [
         "14",
         "ChZDSUhNMG9nS0VJQ0FnSUREME5ldk5nEAE",
         "zh-Hant",
         "0.0"
        ],
        [
         "15",
         "ChdDSUhNMG9nS0VJQ0FnSUNEb2ItMGhRRRAB",
         "en",
         "1.0"
        ],
        [
         "16",
         "ChdDSUhNMG9nS0VJQ0FnSUNEcnZ2VDRnRRAB",
         "zh-Hant",
         "81.0"
        ],
        [
         "17",
         "ChZDSUhNMG9nS0VJQ0FnSUNEcHRtQVJREAE",
         "zh-Hant",
         "99.0"
        ],
        [
         "18",
         "ChdDSUhNMG9nS0VJQ0FnSURrbTdUMW93RRAB",
         "zh-Hant",
         "0.0"
        ],
        [
         "19",
         "ChdDSUhNMG9nS0VJQ0FnSUNEbk12cm1nRRAB",
         "zh-Hant",
         "3.0"
        ],
        [
         "20",
         "ChZDSUhNMG9nS0VJQ0FnSUNEaktteU93EAE",
         "en",
         "93.0"
        ],
        [
         "21",
         "ChdDSUhNMG9nS0VJQ0FnSUNEcU1YUHNRRRAB",
         "zh-Hant",
         "99.0"
        ],
        [
         "22",
         "ChdDSUhNMG9nS0VJQ0FnSUNEMEtLRXF3RRAB",
         "zh-Hant",
         "0.0"
        ],
        [
         "23",
         "ChZDSUhNMG9nS0VJQ0FnSUQ5eThEekRBEAE",
         "zh-Hant",
         "25.0"
        ],
        [
         "24",
         "ChdDSUhNMG9nS0VJQ0FnSUQ5dzZMMzZBRRAB",
         "zh-Hant",
         "65.0"
        ],
        [
         "25",
         "ChZDSUhNMG9nS0VJQ0FnSUQ5NWVYZmNBEAE",
         "zh-Hant",
         "0.0"
        ],
        [
         "26",
         "ChdDSUhNMG9nS0VJQ0FnSUQ5aWNLdHZBRRAB",
         "zh-Hant",
         "0.0"
        ],
        [
         "27",
         "ChdDSUhNMG9nS0VJQ0FnSUQ5NU1icnhRRRAB",
         "zh-Hant",
         "0.0"
        ],
        [
         "28",
         "ChZDSUhNMG9nS0VJQ0FnSUQ5d0lmZ2JBEAE",
         "zh-Hant",
         "40.0"
        ],
        [
         "29",
         "ChZDSUhNMG9nS0VJQ0FnSUM5dVpfRVJnEAE",
         "zh-Hant",
         "99.0"
        ],
        [
         "30",
         "ChdDSUhNMG9nS0VJQ0FnSURkeTQ2SnRnRRAB",
         "zh-Hant",
         "0.0"
        ],
        [
         "31",
         "ChdDSUhNMG9nS0VJQ0FnSURkck5pdGtBRRAB",
         "zh-Hant",
         "79.0"
        ],
        [
         "32",
         "ChZDSUhNMG9nS0VJQ0FnSURkb0tTeWNBEAE",
         "zh-Hant",
         "17.0"
        ],
        [
         "33",
         "ChdDSUhNMG9nS0VJQ0FnSUNkemJEX21BRRAB",
         "zh-Hant",
         "24.0"
        ],
        [
         "34",
         "ChRDSUhNMG9nS0VJQ0FnSUNkbE9wQhAB",
         "zh-Hant",
         "3.0"
        ],
        [
         "35",
         "ChZDSUhNMG9nS0VJQ0FnSUNkaEt2ZkdREAE",
         "zh-Hant",
         "0.0"
        ],
        [
         "36",
         "ChZDSUhNMG9nS0VJQ0FnSUNkNk5UWUlBEAE",
         "ko",
         "0.0"
        ],
        [
         "37",
         "ChZDSUhNMG9nS0VJQ0FnSUR0cDV2Z0hREAE",
         "zh-Hant",
         "35.0"
        ],
        [
         "38",
         "ChZDSUhNMG9nS0VJQ0FnSUR0cDl6c1FnEAE",
         "en",
         "98.0"
        ],
        [
         "39",
         "ChdDSUhNMG9nS0VJQ0FnSUR0cDlTNWhRRRAB",
         "zh-Hant",
         "0.0"
        ],
        [
         "40",
         "ChZDSUhNMG9nS0VJQ0FnSUR0bTQtYld3EAE",
         "zh-Hant",
         "99.0"
        ],
        [
         "41",
         "ChdDSUhNMG9nS0VJQ0FnSUR0M2RTWGtRRRAB",
         "en",
         "84.0"
        ],
        [
         "42",
         "ChZDSUhNMG9nS0VJQ0FnSUR0bmIyd0dREAE",
         "zh-Hant",
         "92.0"
        ],
        [
         "43",
         "ChZDSUhNMG9nS0VJQ0FnSUR0ck5DbkxnEAE",
         "zh-Hant",
         "0.0"
        ],
        [
         "44",
         "ChdDSUhNMG9nS0VJQ0FnSUN0dFpyZjJnRRAB",
         "zh-Hant",
         "7.0"
        ],
        [
         "45",
         "ChZDSUhNMG9nS0VJQ0FnSURSaGZUSVdnEAE",
         "zh-Hant",
         "98.0"
        ],
        [
         "46",
         "ChdDSUhNMG9nS0VJQ0FnSUROZ192TjJRRRAB",
         "zh-Hant",
         "80.0"
        ],
        [
         "47",
         "ChZDSUhNMG9nS0VJQ0FnSURONkxlSVRREAE",
         "zh-Hant",
         "10.0"
        ],
        [
         "48",
         "ChdDSUhNMG9nS0VJQ0FnSUNOM1l6WGt3RRAB",
         "zh-Hant",
         "98.0"
        ],
        [
         "49",
         "ChZDSUhNMG9nS0VJQ0FnSUNOOHVMX0JBEAE",
         "zh-Hant",
         "1.0"
        ]
       ],
       "shape": {
        "columns": 3,
        "rows": 6375018
       }
      },
      "text/html": [
       "<div>\n",
       "<style scoped>\n",
       "    .dataframe tbody tr th:only-of-type {\n",
       "        vertical-align: middle;\n",
       "    }\n",
       "\n",
       "    .dataframe tbody tr th {\n",
       "        vertical-align: top;\n",
       "    }\n",
       "\n",
       "    .dataframe thead th {\n",
       "        text-align: right;\n",
       "    }\n",
       "</style>\n",
       "<table border=\"1\" class=\"dataframe\">\n",
       "  <thead>\n",
       "    <tr style=\"text-align: right;\">\n",
       "      <th></th>\n",
       "      <th>review_id</th>\n",
       "      <th>langTag</th>\n",
       "      <th>snownlp_scores_0-100</th>\n",
       "    </tr>\n",
       "  </thead>\n",
       "  <tbody>\n",
       "    <tr>\n",
       "      <th>0</th>\n",
       "      <td>ChZDSUhNMG9nS0VJQ0FnTURBM3RueUd3EAE</td>\n",
       "      <td>zh-Hant</td>\n",
       "      <td>28.0</td>\n",
       "    </tr>\n",
       "    <tr>\n",
       "      <th>1</th>\n",
       "      <td>ChZDSUhNMG9nS0VJQ0FnSURQbDdIOWZREAE</td>\n",
       "      <td>zh-Hant</td>\n",
       "      <td>0.0</td>\n",
       "    </tr>\n",
       "    <tr>\n",
       "      <th>2</th>\n",
       "      <td>ChZDSUhNMG9nS0VJQ0FnSURINzR1MUN3EAE</td>\n",
       "      <td>zh-Hant</td>\n",
       "      <td>0.0</td>\n",
       "    </tr>\n",
       "    <tr>\n",
       "      <th>3</th>\n",
       "      <td>ChdDSUhNMG9nS0VJQ0FnSURIdV9pYnFBRRAB</td>\n",
       "      <td>zh-Hant</td>\n",
       "      <td>33.0</td>\n",
       "    </tr>\n",
       "    <tr>\n",
       "      <th>4</th>\n",
       "      <td>ChZDSUhNMG9nS0VJQ0FnSURIanJHb2ZnEAE</td>\n",
       "      <td>zh-Hant</td>\n",
       "      <td>16.0</td>\n",
       "    </tr>\n",
       "    <tr>\n",
       "      <th>...</th>\n",
       "      <td>...</td>\n",
       "      <td>...</td>\n",
       "      <td>...</td>\n",
       "    </tr>\n",
       "    <tr>\n",
       "      <th>6375013</th>\n",
       "      <td>ChZDSUhNMG9nS0VJQ0FnSURBdHVUWVpBEAE</td>\n",
       "      <td>NaN</td>\n",
       "      <td>NaN</td>\n",
       "    </tr>\n",
       "    <tr>\n",
       "      <th>6375014</th>\n",
       "      <td>ChdDSUhNMG9nS0VJQ0FnSUNneXAtN29nRRAB</td>\n",
       "      <td>NaN</td>\n",
       "      <td>NaN</td>\n",
       "    </tr>\n",
       "    <tr>\n",
       "      <th>6375015</th>\n",
       "      <td>ChdDSUhNMG9nS0VJQ0FnSUNnbi0zVnBRRRAB</td>\n",
       "      <td>NaN</td>\n",
       "      <td>NaN</td>\n",
       "    </tr>\n",
       "    <tr>\n",
       "      <th>6375016</th>\n",
       "      <td>ChdDSUhNMG9nS0VJQ0FnSURBaGM3TTBnRRAB</td>\n",
       "      <td>NaN</td>\n",
       "      <td>NaN</td>\n",
       "    </tr>\n",
       "    <tr>\n",
       "      <th>6375017</th>\n",
       "      <td>ChZDSUhNMG9nS0VJQ0FnSURRaThiX0Z3EAE</td>\n",
       "      <td>NaN</td>\n",
       "      <td>NaN</td>\n",
       "    </tr>\n",
       "  </tbody>\n",
       "</table>\n",
       "<p>6375018 rows × 3 columns</p>\n",
       "</div>"
      ],
      "text/plain": [
       "                                    review_id  langTag  snownlp_scores_0-100\n",
       "0         ChZDSUhNMG9nS0VJQ0FnTURBM3RueUd3EAE  zh-Hant                  28.0\n",
       "1         ChZDSUhNMG9nS0VJQ0FnSURQbDdIOWZREAE  zh-Hant                   0.0\n",
       "2         ChZDSUhNMG9nS0VJQ0FnSURINzR1MUN3EAE  zh-Hant                   0.0\n",
       "3        ChdDSUhNMG9nS0VJQ0FnSURIdV9pYnFBRRAB  zh-Hant                  33.0\n",
       "4         ChZDSUhNMG9nS0VJQ0FnSURIanJHb2ZnEAE  zh-Hant                  16.0\n",
       "...                                       ...      ...                   ...\n",
       "6375013   ChZDSUhNMG9nS0VJQ0FnSURBdHVUWVpBEAE      NaN                   NaN\n",
       "6375014  ChdDSUhNMG9nS0VJQ0FnSUNneXAtN29nRRAB      NaN                   NaN\n",
       "6375015  ChdDSUhNMG9nS0VJQ0FnSUNnbi0zVnBRRRAB      NaN                   NaN\n",
       "6375016  ChdDSUhNMG9nS0VJQ0FnSURBaGM3TTBnRRAB      NaN                   NaN\n",
       "6375017   ChZDSUhNMG9nS0VJQ0FnSURRaThiX0Z3EAE      NaN                   NaN\n",
       "\n",
       "[6375018 rows x 3 columns]"
      ]
     },
     "execution_count": 15,
     "metadata": {},
     "output_type": "execute_result"
    }
   ],
   "source": [
    "# 取出需要的欄位\n",
    "nlp_838 = nlp_838[['review_id', 'langTag', 'snownlp_scores_0-100']]\n",
    "nlp_838"
   ]
  },
  {
   "cell_type": "code",
   "execution_count": 16,
   "metadata": {},
   "outputs": [
    {
     "data": {
      "application/vnd.microsoft.datawrangler.viewer.v0+json": {
       "columns": [
        {
         "name": "index",
         "rawType": "int64",
         "type": "integer"
        },
        {
         "name": "location_id",
         "rawType": "object",
         "type": "string"
        },
        {
         "name": "gmap_location",
         "rawType": "object",
         "type": "string"
        },
        {
         "name": "attraction_type",
         "rawType": "object",
         "type": "string"
        },
        {
         "name": "address",
         "rawType": "object",
         "type": "string"
        },
        {
         "name": "review_id",
         "rawType": "object",
         "type": "string"
        },
        {
         "name": "score",
         "rawType": "int64",
         "type": "integer"
        },
        {
         "name": "date",
         "rawType": "object",
         "type": "string"
        },
        {
         "name": "langTag",
         "rawType": "object",
         "type": "string"
        },
        {
         "name": "snownlp_scores_0-100",
         "rawType": "float64",
         "type": "float"
        }
       ],
       "conversionMethod": "pd.DataFrame",
       "ref": "0acb9a2c-77ca-497e-8f14-786ca1d2c832",
       "rows": [
        [
         "0",
         "0x346885034084ae89:0x59a8b1eac5731c29",
         "白楊步道水簾洞",
         "自然景觀與戶外",
         "花蓮縣",
         "ChZDSUhNMG9nS0VJQ0FnTURBM3RueUd3EAE",
         "3",
         "2025-02-09",
         "zh-Hant",
         "28.0"
        ],
        [
         "1",
         "0x346885034084ae89:0x59a8b1eac5731c29",
         "白楊步道水簾洞",
         "自然景觀與戶外",
         "花蓮縣",
         "ChZDSUhNMG9nS0VJQ0FnSURQbDdIOWZREAE",
         "1",
         "2024-12-06",
         "zh-Hant",
         "0.0"
        ],
        [
         "2",
         "0x346885034084ae89:0x59a8b1eac5731c29",
         "白楊步道水簾洞",
         "自然景觀與戶外",
         "花蓮縣",
         "ChZDSUhNMG9nS0VJQ0FnSURINzR1MUN3EAE",
         "5",
         "2024-09-21",
         "zh-Hant",
         "0.0"
        ],
        [
         "3",
         "0x346885034084ae89:0x59a8b1eac5731c29",
         "白楊步道水簾洞",
         "自然景觀與戶外",
         "花蓮縣",
         "ChdDSUhNMG9nS0VJQ0FnSURIdV9pYnFBRRAB",
         "5",
         "2024-09-20",
         "zh-Hant",
         "33.0"
        ],
        [
         "4",
         "0x346885034084ae89:0x59a8b1eac5731c29",
         "白楊步道水簾洞",
         "自然景觀與戶外",
         "花蓮縣",
         "ChZDSUhNMG9nS0VJQ0FnSURIanJHb2ZnEAE",
         "5",
         "2024-09-15",
         "zh-Hant",
         "16.0"
        ]
       ],
       "shape": {
        "columns": 9,
        "rows": 5
       }
      },
      "text/html": [
       "<div>\n",
       "<style scoped>\n",
       "    .dataframe tbody tr th:only-of-type {\n",
       "        vertical-align: middle;\n",
       "    }\n",
       "\n",
       "    .dataframe tbody tr th {\n",
       "        vertical-align: top;\n",
       "    }\n",
       "\n",
       "    .dataframe thead th {\n",
       "        text-align: right;\n",
       "    }\n",
       "</style>\n",
       "<table border=\"1\" class=\"dataframe\">\n",
       "  <thead>\n",
       "    <tr style=\"text-align: right;\">\n",
       "      <th></th>\n",
       "      <th>location_id</th>\n",
       "      <th>gmap_location</th>\n",
       "      <th>attraction_type</th>\n",
       "      <th>address</th>\n",
       "      <th>review_id</th>\n",
       "      <th>score</th>\n",
       "      <th>date</th>\n",
       "      <th>langTag</th>\n",
       "      <th>snownlp_scores_0-100</th>\n",
       "    </tr>\n",
       "  </thead>\n",
       "  <tbody>\n",
       "    <tr>\n",
       "      <th>0</th>\n",
       "      <td>0x346885034084ae89:0x59a8b1eac5731c29</td>\n",
       "      <td>白楊步道水簾洞</td>\n",
       "      <td>自然景觀與戶外</td>\n",
       "      <td>花蓮縣</td>\n",
       "      <td>ChZDSUhNMG9nS0VJQ0FnTURBM3RueUd3EAE</td>\n",
       "      <td>3</td>\n",
       "      <td>2025-02-09</td>\n",
       "      <td>zh-Hant</td>\n",
       "      <td>28.0</td>\n",
       "    </tr>\n",
       "    <tr>\n",
       "      <th>1</th>\n",
       "      <td>0x346885034084ae89:0x59a8b1eac5731c29</td>\n",
       "      <td>白楊步道水簾洞</td>\n",
       "      <td>自然景觀與戶外</td>\n",
       "      <td>花蓮縣</td>\n",
       "      <td>ChZDSUhNMG9nS0VJQ0FnSURQbDdIOWZREAE</td>\n",
       "      <td>1</td>\n",
       "      <td>2024-12-06</td>\n",
       "      <td>zh-Hant</td>\n",
       "      <td>0.0</td>\n",
       "    </tr>\n",
       "    <tr>\n",
       "      <th>2</th>\n",
       "      <td>0x346885034084ae89:0x59a8b1eac5731c29</td>\n",
       "      <td>白楊步道水簾洞</td>\n",
       "      <td>自然景觀與戶外</td>\n",
       "      <td>花蓮縣</td>\n",
       "      <td>ChZDSUhNMG9nS0VJQ0FnSURINzR1MUN3EAE</td>\n",
       "      <td>5</td>\n",
       "      <td>2024-09-21</td>\n",
       "      <td>zh-Hant</td>\n",
       "      <td>0.0</td>\n",
       "    </tr>\n",
       "    <tr>\n",
       "      <th>3</th>\n",
       "      <td>0x346885034084ae89:0x59a8b1eac5731c29</td>\n",
       "      <td>白楊步道水簾洞</td>\n",
       "      <td>自然景觀與戶外</td>\n",
       "      <td>花蓮縣</td>\n",
       "      <td>ChdDSUhNMG9nS0VJQ0FnSURIdV9pYnFBRRAB</td>\n",
       "      <td>5</td>\n",
       "      <td>2024-09-20</td>\n",
       "      <td>zh-Hant</td>\n",
       "      <td>33.0</td>\n",
       "    </tr>\n",
       "    <tr>\n",
       "      <th>4</th>\n",
       "      <td>0x346885034084ae89:0x59a8b1eac5731c29</td>\n",
       "      <td>白楊步道水簾洞</td>\n",
       "      <td>自然景觀與戶外</td>\n",
       "      <td>花蓮縣</td>\n",
       "      <td>ChZDSUhNMG9nS0VJQ0FnSURIanJHb2ZnEAE</td>\n",
       "      <td>5</td>\n",
       "      <td>2024-09-15</td>\n",
       "      <td>zh-Hant</td>\n",
       "      <td>16.0</td>\n",
       "    </tr>\n",
       "  </tbody>\n",
       "</table>\n",
       "</div>"
      ],
      "text/plain": [
       "                             location_id gmap_location attraction_type  \\\n",
       "0  0x346885034084ae89:0x59a8b1eac5731c29       白楊步道水簾洞         自然景觀與戶外   \n",
       "1  0x346885034084ae89:0x59a8b1eac5731c29       白楊步道水簾洞         自然景觀與戶外   \n",
       "2  0x346885034084ae89:0x59a8b1eac5731c29       白楊步道水簾洞         自然景觀與戶外   \n",
       "3  0x346885034084ae89:0x59a8b1eac5731c29       白楊步道水簾洞         自然景觀與戶外   \n",
       "4  0x346885034084ae89:0x59a8b1eac5731c29       白楊步道水簾洞         自然景觀與戶外   \n",
       "\n",
       "  address                             review_id  score        date  langTag  \\\n",
       "0     花蓮縣   ChZDSUhNMG9nS0VJQ0FnTURBM3RueUd3EAE      3  2025-02-09  zh-Hant   \n",
       "1     花蓮縣   ChZDSUhNMG9nS0VJQ0FnSURQbDdIOWZREAE      1  2024-12-06  zh-Hant   \n",
       "2     花蓮縣   ChZDSUhNMG9nS0VJQ0FnSURINzR1MUN3EAE      5  2024-09-21  zh-Hant   \n",
       "3     花蓮縣  ChdDSUhNMG9nS0VJQ0FnSURIdV9pYnFBRRAB      5  2024-09-20  zh-Hant   \n",
       "4     花蓮縣   ChZDSUhNMG9nS0VJQ0FnSURIanJHb2ZnEAE      5  2024-09-15  zh-Hant   \n",
       "\n",
       "   snownlp_scores_0-100  \n",
       "0                  28.0  \n",
       "1                   0.0  \n",
       "2                   0.0  \n",
       "3                  33.0  \n",
       "4                  16.0  "
      ]
     },
     "execution_count": 16,
     "metadata": {},
     "output_type": "execute_result"
    }
   ],
   "source": [
    "# 與基本資料表合併\n",
    "new_basic_info_rating_838 = pd.merge(new_basic_info_rating_838, nlp_838)\n",
    "\n",
    "new_basic_info_rating_838.head()"
   ]
  },
  {
   "cell_type": "code",
   "execution_count": 17,
   "metadata": {},
   "outputs": [],
   "source": [
    "# drop revied_id 欄位\n",
    "new_basic_info_rating_838 = new_basic_info_rating_838.drop(columns=['review_id'])\n",
    "\n",
    "# 改語言別欄位名稱\n",
    "new_basic_info_rating_838 = new_basic_info_rating_838.rename(columns={'langTag': 'language'})"
   ]
  },
  {
   "cell_type": "code",
   "execution_count": 18,
   "metadata": {},
   "outputs": [],
   "source": [
    "# 另存合併後的基本資料表(含評分)\n",
    "new_basic_info_rating_838.to_csv('../data/838-new_basic_info_rating.csv', index=False, encoding='utf-8-sig')"
   ]
  },
  {
   "cell_type": "code",
   "execution_count": 20,
   "metadata": {},
   "outputs": [
    {
     "data": {
      "application/vnd.microsoft.datawrangler.viewer.v0+json": {
       "columns": [
        {
         "name": "index",
         "rawType": "int64",
         "type": "integer"
        },
        {
         "name": "location_id",
         "rawType": "object",
         "type": "string"
        },
        {
         "name": "gmap_location",
         "rawType": "object",
         "type": "string"
        },
        {
         "name": "attraction_type",
         "rawType": "object",
         "type": "string"
        },
        {
         "name": "address",
         "rawType": "object",
         "type": "string"
        },
        {
         "name": "avg_score",
         "rawType": "float64",
         "type": "float"
        },
        {
         "name": "rating_count",
         "rawType": "int64",
         "type": "integer"
        },
        {
         "name": "avg_nlp",
         "rawType": "float64",
         "type": "float"
        }
       ],
       "conversionMethod": "pd.DataFrame",
       "ref": "3bc6b9b1-8a67-4791-8877-88a3ecb6cbb4",
       "rows": [
        [
         "0",
         "0x346885034084ae89:0x59a8b1eac5731c29",
         "白楊步道水簾洞",
         "自然景觀與戶外",
         "花蓮縣",
         "4.762067",
         "2942",
         "49.264338"
        ],
        [
         "1",
         "0x345d4f79d991ebff:0x4b31be352c6025d8",
         "八斗子海濱公園",
         "自然景觀與戶外",
         "基隆市",
         "4.403774",
         "1060",
         "68.848485"
        ],
        [
         "2",
         "0x345d436e06bbbaa1:0xc19904956774fbda",
         "龍洞四季灣海泳區",
         "自然景觀與戶外",
         "新北市",
         "4.112676",
         "142",
         "49.229167"
        ],
        [
         "3",
         "0x3469101487645db9:0x3d4456455bc12054",
         "張連昌薩克斯風",
         "人文歷史",
         "台中市",
         "4.528851",
         "1993",
         "55.607567"
        ],
        [
         "4",
         "0x34691b0ca6f85609:0x402270c976dab396",
         "石岡水壩",
         "城市景觀",
         "台中市",
         "4.404348",
         "1610",
         "54.721311"
        ]
       ],
       "shape": {
        "columns": 7,
        "rows": 5
       }
      },
      "text/html": [
       "<div>\n",
       "<style scoped>\n",
       "    .dataframe tbody tr th:only-of-type {\n",
       "        vertical-align: middle;\n",
       "    }\n",
       "\n",
       "    .dataframe tbody tr th {\n",
       "        vertical-align: top;\n",
       "    }\n",
       "\n",
       "    .dataframe thead th {\n",
       "        text-align: right;\n",
       "    }\n",
       "</style>\n",
       "<table border=\"1\" class=\"dataframe\">\n",
       "  <thead>\n",
       "    <tr style=\"text-align: right;\">\n",
       "      <th></th>\n",
       "      <th>location_id</th>\n",
       "      <th>gmap_location</th>\n",
       "      <th>attraction_type</th>\n",
       "      <th>address</th>\n",
       "      <th>avg_score</th>\n",
       "      <th>rating_count</th>\n",
       "      <th>avg_nlp</th>\n",
       "    </tr>\n",
       "  </thead>\n",
       "  <tbody>\n",
       "    <tr>\n",
       "      <th>0</th>\n",
       "      <td>0x346885034084ae89:0x59a8b1eac5731c29</td>\n",
       "      <td>白楊步道水簾洞</td>\n",
       "      <td>自然景觀與戶外</td>\n",
       "      <td>花蓮縣</td>\n",
       "      <td>4.762067</td>\n",
       "      <td>2942</td>\n",
       "      <td>49.264338</td>\n",
       "    </tr>\n",
       "    <tr>\n",
       "      <th>1</th>\n",
       "      <td>0x345d4f79d991ebff:0x4b31be352c6025d8</td>\n",
       "      <td>八斗子海濱公園</td>\n",
       "      <td>自然景觀與戶外</td>\n",
       "      <td>基隆市</td>\n",
       "      <td>4.403774</td>\n",
       "      <td>1060</td>\n",
       "      <td>68.848485</td>\n",
       "    </tr>\n",
       "    <tr>\n",
       "      <th>2</th>\n",
       "      <td>0x345d436e06bbbaa1:0xc19904956774fbda</td>\n",
       "      <td>龍洞四季灣海泳區</td>\n",
       "      <td>自然景觀與戶外</td>\n",
       "      <td>新北市</td>\n",
       "      <td>4.112676</td>\n",
       "      <td>142</td>\n",
       "      <td>49.229167</td>\n",
       "    </tr>\n",
       "    <tr>\n",
       "      <th>3</th>\n",
       "      <td>0x3469101487645db9:0x3d4456455bc12054</td>\n",
       "      <td>張連昌薩克斯風</td>\n",
       "      <td>人文歷史</td>\n",
       "      <td>台中市</td>\n",
       "      <td>4.528851</td>\n",
       "      <td>1993</td>\n",
       "      <td>55.607567</td>\n",
       "    </tr>\n",
       "    <tr>\n",
       "      <th>4</th>\n",
       "      <td>0x34691b0ca6f85609:0x402270c976dab396</td>\n",
       "      <td>石岡水壩</td>\n",
       "      <td>城市景觀</td>\n",
       "      <td>台中市</td>\n",
       "      <td>4.404348</td>\n",
       "      <td>1610</td>\n",
       "      <td>54.721311</td>\n",
       "    </tr>\n",
       "  </tbody>\n",
       "</table>\n",
       "</div>"
      ],
      "text/plain": [
       "                             location_id gmap_location attraction_type  \\\n",
       "0  0x346885034084ae89:0x59a8b1eac5731c29       白楊步道水簾洞         自然景觀與戶外   \n",
       "1  0x345d4f79d991ebff:0x4b31be352c6025d8       八斗子海濱公園         自然景觀與戶外   \n",
       "2  0x345d436e06bbbaa1:0xc19904956774fbda      龍洞四季灣海泳區         自然景觀與戶外   \n",
       "3  0x3469101487645db9:0x3d4456455bc12054       張連昌薩克斯風            人文歷史   \n",
       "4  0x34691b0ca6f85609:0x402270c976dab396          石岡水壩            城市景觀   \n",
       "\n",
       "  address  avg_score  rating_count    avg_nlp  \n",
       "0     花蓮縣   4.762067          2942  49.264338  \n",
       "1     基隆市   4.403774          1060  68.848485  \n",
       "2     新北市   4.112676           142  49.229167  \n",
       "3     台中市   4.528851          1993  55.607567  \n",
       "4     台中市   4.404348          1610  54.721311  "
      ]
     },
     "execution_count": 20,
     "metadata": {},
     "output_type": "execute_result"
    }
   ],
   "source": [
    "# 合併基本資訊與平均評分\n",
    "new_basic_info_838 = pd.read_csv('../data/838-new_basic_info.csv')\n",
    "new_basic_info_rating_838 = pd.read_csv('../data/838-new_basic_info_rating.csv')\n",
    "\n",
    "# 先算出各景點平均\n",
    "spot_average = new_basic_info_rating_838.groupby('location_id')['score'].mean().round(6)\n",
    "\n",
    "# 再算出各景點評分數\n",
    "rating_count = new_basic_info_rating_838.groupby('location_id')['score'].count()\n",
    "\n",
    "# 再算出各景點情感分數平均\n",
    "nlp_average = new_basic_info_rating_838.groupby('location_id')['snownlp_scores_0-100'].mean().round(6)\n",
    "\n",
    "# 合併基本資料表\n",
    "spot_average_count = pd.DataFrame({'avg_score':spot_average,'rating_count':rating_count, 'avg_nlp': nlp_average})\n",
    "new_basic_info_avg_rating_count_838 = pd.merge(new_basic_info_838, spot_average_count, left_on='location_id', right_on='location_id')\n",
    "\n",
    "# 另存合併後的基本資料表(含平均評分)\n",
    "new_basic_info_avg_rating_count_838.to_csv('../data/838-new_basic_info_avg_rating_count.csv', index=False, encoding='utf-8-sig')\n",
    "\n",
    "new_basic_info_avg_rating_count_838.head()"
   ]
  }
 ],
 "metadata": {
  "kernelspec": {
   "display_name": "Python 3",
   "language": "python",
   "name": "python3"
  },
  "language_info": {
   "codemirror_mode": {
    "name": "ipython",
    "version": 3
   },
   "file_extension": ".py",
   "mimetype": "text/x-python",
   "name": "python",
   "nbconvert_exporter": "python",
   "pygments_lexer": "ipython3",
   "version": "3.13.0"
  }
 },
 "nbformat": 4,
 "nbformat_minor": 2
}
